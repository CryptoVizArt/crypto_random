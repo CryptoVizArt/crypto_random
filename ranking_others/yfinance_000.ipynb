{
 "cells": [
  {
   "cell_type": "code",
   "id": "initial_id",
   "metadata": {
    "collapsed": true,
    "ExecuteTime": {
     "end_time": "2024-11-15T03:46:44.230367Z",
     "start_time": "2024-11-15T03:43:58.120663Z"
    }
   },
   "source": [
    "import pandas as pd\n",
    "import yfinance as yf\n",
    "from datetime import datetime\n",
    "import time\n",
    "\n",
    "def get_daily_market_caps():\n",
    "    # Read the CSV file\n",
    "    df = pd.read_csv('coinmarketcap_20190106_top_125.csv')\n",
    "    \n",
    "    # Create symbol mapping dictionary\n",
    "    symbol_mapping = {\n",
    "        row['Name']: f\"{row['Symbol']}-USD\"\n",
    "        for _, row in df.iterrows()\n",
    "    }\n",
    "    \n",
    "    # Create a DataFrame to store all market caps\n",
    "    all_market_caps = pd.DataFrame()\n",
    "    \n",
    "    # Define the date range\n",
    "    start_date = '2019-01-01'\n",
    "    end_date = datetime.now().strftime('%Y-%m-%d')\n",
    "    \n",
    "    # Loop through each cryptocurrency\n",
    "    for name, symbol in symbol_mapping.items():\n",
    "        try:\n",
    "            print(f\"Fetching market cap data for {name} ({symbol})...\")\n",
    "            \n",
    "            # Fetch data from Yahoo Finance\n",
    "            ticker = yf.Ticker(symbol)\n",
    "            hist = ticker.history(start=start_date, end=end_date)\n",
    "            \n",
    "            if not hist.empty:\n",
    "                # Calculate market cap (Close Price * Volume)\n",
    "                market_cap = hist['Close'] * hist['Volume']\n",
    "                all_market_caps[name] = market_cap\n",
    "            \n",
    "            # Add a small delay to avoid hitting rate limits\n",
    "            time.sleep(1)\n",
    "            \n",
    "        except Exception as e:\n",
    "            print(f\"Error fetching data for {name} ({symbol}): {str(e)}\")\n",
    "            continue\n",
    "    \n",
    "    # Save to CSV\n",
    "    if not all_market_caps.empty:\n",
    "        all_market_caps.to_csv('daily_market_caps.csv')\n",
    "        print(\"Daily market cap data saved to 'daily_market_caps.csv'\")\n",
    "    else:\n",
    "        print(\"No data was collected\")\n",
    "\n",
    "if __name__ == \"__main__\":\n",
    "    get_daily_market_caps()"
   ],
   "outputs": [
    {
     "name": "stdout",
     "output_type": "stream",
     "text": [
      "Fetching market cap data for Bitcoin (BTC-USD)...\n",
      "Fetching market cap data for Ethereum (ETH-USD)...\n",
      "Fetching market cap data for XRP (XRP-USD)...\n",
      "Fetching market cap data for Bitcoin Cash (BCH-USD)...\n",
      "Fetching market cap data for EOS (EOS-USD)...\n",
      "Fetching market cap data for Litecoin (LTC-USD)...\n",
      "Fetching market cap data for Stellar (XLM-USD)...\n",
      "Fetching market cap data for Tether (USDT-USD)...\n",
      "Fetching market cap data for Bitcoin SV (BSV-USD)...\n",
      "Fetching market cap data for TRON (TRX-USD)...\n",
      "Fetching market cap data for Cardano (ADA-USD)...\n",
      "Fetching market cap data for IOTA (MIOTA-USD)...\n",
      "Fetching market cap data for Monero (XMR-USD)...\n",
      "Fetching market cap data for Binance Coin (BNB-USD)...\n",
      "Fetching market cap data for Dash (DASH-USD)...\n",
      "Fetching market cap data for NEM (XEM-USD)...\n",
      "Fetching market cap data for Ethereum Classic (ETC-USD)...\n",
      "Fetching market cap data for Neo (NEO-USD)...\n",
      "Fetching market cap data for Maker (MKR-USD)...\n",
      "Fetching market cap data for Zcash (ZEC-USD)...\n",
      "Fetching market cap data for Waves (WAVES-USD)...\n",
      "Fetching market cap data for USD Coin (USDC-USD)...\n",
      "Fetching market cap data for Tezos (XTZ-USD)...\n",
      "Fetching market cap data for Dogecoin (DOGE-USD)...\n",
      "Fetching market cap data for Bitcoin Gold (BTG-USD)...\n",
      "Fetching market cap data for VeChain (VET-USD)...\n",
      "Fetching market cap data for OmiseGO (OMG-USD)...\n",
      "Fetching market cap data for Qtum (QTUM-USD)...\n",
      "Fetching market cap data for TrueUSD (TUSD-USD)...\n",
      "Fetching market cap data for Zilliqa (ZIL-USD)...\n",
      "Fetching market cap data for Ontology (ONT-USD)...\n",
      "Fetching market cap data for 0x (ZRX-USD)...\n",
      "Fetching market cap data for Decred (DCR-USD)...\n",
      "Fetching market cap data for Basic Attention Token (BAT-USD)...\n",
      "Fetching market cap data for Lisk (LSK-USD)...\n",
      "Fetching market cap data for Bitcoin Diamond (BCD-USD)...\n",
      "Fetching market cap data for Bytecoin (BCN-USD)...\n",
      "Fetching market cap data for Chainlink (LINK-USD)...\n",
      "Fetching market cap data for ICON (ICX-USD)...\n",
      "Fetching market cap data for Nano (NANO-USD)...\n",
      "Fetching market cap data for DigiByte (DGB-USD)...\n",
      "Fetching market cap data for Revain (R-USD)...\n",
      "Fetching market cap data for Paxos Standard (PAX-USD)...\n"
     ]
    },
    {
     "name": "stderr",
     "output_type": "stream",
     "text": [
      "$PAX-USD: possibly delisted; no timezone found\n"
     ]
    },
    {
     "name": "stdout",
     "output_type": "stream",
     "text": [
      "Fetching market cap data for BitShares (BTS-USD)...\n",
      "Fetching market cap data for Verge (XVG-USD)...\n",
      "Fetching market cap data for Siacoin (SC-USD)...\n",
      "Fetching market cap data for Stratis (STRAT-USD)...\n",
      "Fetching market cap data for Augur (REP-USD)...\n",
      "Fetching market cap data for Aeternity (AE-USD)...\n",
      "Fetching market cap data for Steem (STEEM-USD)...\n",
      "Fetching market cap data for Gemini Dollar (GUSD-USD)...\n",
      "Fetching market cap data for Komodo (KMD-USD)...\n",
      "Fetching market cap data for Populous (PPT-USD)...\n",
      "Fetching market cap data for Bytom (BTM-USD)...\n",
      "Fetching market cap data for Buggyra Coin Zero (BCZERO-USD)...\n"
     ]
    },
    {
     "name": "stderr",
     "output_type": "stream",
     "text": [
      "$BCZERO-USD: possibly delisted; no timezone found\n"
     ]
    },
    {
     "name": "stdout",
     "output_type": "stream",
     "text": [
      "Fetching market cap data for Pundi X (NPXS-USD)...\n",
      "Fetching market cap data for IOST (IOST-USD)...\n",
      "Fetching market cap data for Holo (HOT-USD)...\n",
      "Fetching market cap data for Aurora (AOA-USD)...\n",
      "Fetching market cap data for Single Collateral DAI (SAI-USD)...\n",
      "Fetching market cap data for Golem (GNT-USD)...\n",
      "Fetching market cap data for Factom (FCT-USD)...\n",
      "Fetching market cap data for Status (SNT-USD)...\n",
      "Fetching market cap data for Electroneum (ETN-USD)...\n",
      "Fetching market cap data for Dentacoin (DCN-USD)...\n",
      "Fetching market cap data for Cryptonex (CNX-USD)...\n",
      "Fetching market cap data for MaidSafeCoin (MAID-USD)...\n",
      "Fetching market cap data for ODEM (ODE-USD)...\n",
      "Fetching market cap data for Ardor (ARDR-USD)...\n",
      "Fetching market cap data for Huobi Token (HT-USD)...\n",
      "Fetching market cap data for KuCoin Shares (KCS-USD)...\n",
      "Fetching market cap data for REPO (REPO-USD)...\n",
      "Fetching market cap data for PIVX (PIVX-USD)...\n",
      "Fetching market cap data for Ark (ARK-USD)...\n",
      "Fetching market cap data for Waltonchain (WTC-USD)...\n",
      "Fetching market cap data for Decentraland (MANA-USD)...\n",
      "Fetching market cap data for Insight Chain (INB-USD)...\n",
      "Fetching market cap data for Aion (AION-USD)...\n",
      "Fetching market cap data for Nexo (NEXO-USD)...\n",
      "Fetching market cap data for DigixDAO (DGD-USD)...\n",
      "Fetching market cap data for Mixin (XIN-USD)...\n",
      "Fetching market cap data for Bancor (BNT-USD)...\n",
      "Fetching market cap data for MCO (MCO-USD)...\n",
      "Fetching market cap data for Polymath (POLY-USD)...\n",
      "Fetching market cap data for MobileGo (MGO-USD)...\n",
      "Fetching market cap data for MonaCoin (MONA-USD)...\n",
      "Fetching market cap data for MassGrid (MGD-USD)...\n",
      "Fetching market cap data for HyperCash (HC-USD)...\n",
      "Fetching market cap data for Wanchain (WAN-USD)...\n",
      "Fetching market cap data for QASH (QASH-USD)...\n",
      "Fetching market cap data for Elastos (ELA-USD)...\n",
      "Fetching market cap data for Linkey (LKY-USD)...\n",
      "Fetching market cap data for ReddCoin (RDD-USD)...\n",
      "Fetching market cap data for Ravencoin (RVN-USD)...\n",
      "Fetching market cap data for WAX (WAXP-USD)...\n",
      "Fetching market cap data for Maximine Coin (MXM-USD)...\n",
      "Fetching market cap data for THETA (THETA-USD)...\n",
      "Fetching market cap data for Metaverse ETP (ETP-USD)...\n",
      "Fetching market cap data for MOAC (MOAC-USD)...\n",
      "Fetching market cap data for Zcoin (XZC-USD)...\n",
      "Fetching market cap data for aelf (ELF-USD)...\n",
      "Fetching market cap data for Digitex Futures (DGTX-USD)...\n",
      "Fetching market cap data for STASIS EURO (EURS-USD)...\n"
     ]
    },
    {
     "name": "stderr",
     "output_type": "stream",
     "text": [
      "/var/folders/kw/s9r1_7lx3zn35g56dhqzfmwh0000gn/T/ipykernel_25108/328085989.py:35: PerformanceWarning: DataFrame is highly fragmented.  This is usually the result of calling `frame.insert` many times, which has poor performance.  Consider joining all columns at once using pd.concat(axis=1) instead. To get a de-fragmented frame, use `newframe = frame.copy()`\n",
      "  all_market_caps[name] = market_cap\n"
     ]
    },
    {
     "name": "stdout",
     "output_type": "stream",
     "text": [
      "Fetching market cap data for GXChain (GXC-USD)...\n"
     ]
    },
    {
     "name": "stderr",
     "output_type": "stream",
     "text": [
      "/var/folders/kw/s9r1_7lx3zn35g56dhqzfmwh0000gn/T/ipykernel_25108/328085989.py:35: PerformanceWarning: DataFrame is highly fragmented.  This is usually the result of calling `frame.insert` many times, which has poor performance.  Consider joining all columns at once using pd.concat(axis=1) instead. To get a de-fragmented frame, use `newframe = frame.copy()`\n",
      "  all_market_caps[name] = market_cap\n"
     ]
    },
    {
     "name": "stdout",
     "output_type": "stream",
     "text": [
      "Fetching market cap data for Loopring (LRC-USD)...\n"
     ]
    },
    {
     "name": "stderr",
     "output_type": "stream",
     "text": [
      "/var/folders/kw/s9r1_7lx3zn35g56dhqzfmwh0000gn/T/ipykernel_25108/328085989.py:35: PerformanceWarning: DataFrame is highly fragmented.  This is usually the result of calling `frame.insert` many times, which has poor performance.  Consider joining all columns at once using pd.concat(axis=1) instead. To get a de-fragmented frame, use `newframe = frame.copy()`\n",
      "  all_market_caps[name] = market_cap\n"
     ]
    },
    {
     "name": "stdout",
     "output_type": "stream",
     "text": [
      "Fetching market cap data for Power Ledger (POWR-USD)...\n"
     ]
    },
    {
     "name": "stderr",
     "output_type": "stream",
     "text": [
      "/var/folders/kw/s9r1_7lx3zn35g56dhqzfmwh0000gn/T/ipykernel_25108/328085989.py:35: PerformanceWarning: DataFrame is highly fragmented.  This is usually the result of calling `frame.insert` many times, which has poor performance.  Consider joining all columns at once using pd.concat(axis=1) instead. To get a de-fragmented frame, use `newframe = frame.copy()`\n",
      "  all_market_caps[name] = market_cap\n"
     ]
    },
    {
     "name": "stdout",
     "output_type": "stream",
     "text": [
      "Fetching market cap data for Mithril (MITH-USD)...\n"
     ]
    },
    {
     "name": "stderr",
     "output_type": "stream",
     "text": [
      "/var/folders/kw/s9r1_7lx3zn35g56dhqzfmwh0000gn/T/ipykernel_25108/328085989.py:35: PerformanceWarning: DataFrame is highly fragmented.  This is usually the result of calling `frame.insert` many times, which has poor performance.  Consider joining all columns at once using pd.concat(axis=1) instead. To get a de-fragmented frame, use `newframe = frame.copy()`\n",
      "  all_market_caps[name] = market_cap\n"
     ]
    },
    {
     "name": "stdout",
     "output_type": "stream",
     "text": [
      "Fetching market cap data for Bitcoin Private (BTCP-USD)...\n"
     ]
    },
    {
     "name": "stderr",
     "output_type": "stream",
     "text": [
      "/var/folders/kw/s9r1_7lx3zn35g56dhqzfmwh0000gn/T/ipykernel_25108/328085989.py:35: PerformanceWarning: DataFrame is highly fragmented.  This is usually the result of calling `frame.insert` many times, which has poor performance.  Consider joining all columns at once using pd.concat(axis=1) instead. To get a de-fragmented frame, use `newframe = frame.copy()`\n",
      "  all_market_caps[name] = market_cap\n"
     ]
    },
    {
     "name": "stdout",
     "output_type": "stream",
     "text": [
      "Fetching market cap data for Veritaseum (VERI-USD)...\n"
     ]
    },
    {
     "name": "stderr",
     "output_type": "stream",
     "text": [
      "/var/folders/kw/s9r1_7lx3zn35g56dhqzfmwh0000gn/T/ipykernel_25108/328085989.py:35: PerformanceWarning: DataFrame is highly fragmented.  This is usually the result of calling `frame.insert` many times, which has poor performance.  Consider joining all columns at once using pd.concat(axis=1) instead. To get a de-fragmented frame, use `newframe = frame.copy()`\n",
      "  all_market_caps[name] = market_cap\n"
     ]
    },
    {
     "name": "stdout",
     "output_type": "stream",
     "text": [
      "Fetching market cap data for QuarkChain (QKC-USD)...\n"
     ]
    },
    {
     "name": "stderr",
     "output_type": "stream",
     "text": [
      "/var/folders/kw/s9r1_7lx3zn35g56dhqzfmwh0000gn/T/ipykernel_25108/328085989.py:35: PerformanceWarning: DataFrame is highly fragmented.  This is usually the result of calling `frame.insert` many times, which has poor performance.  Consider joining all columns at once using pd.concat(axis=1) instead. To get a de-fragmented frame, use `newframe = frame.copy()`\n",
      "  all_market_caps[name] = market_cap\n"
     ]
    },
    {
     "name": "stdout",
     "output_type": "stream",
     "text": [
      "Fetching market cap data for Crypto.com Coin (CRO-USD)...\n"
     ]
    },
    {
     "name": "stderr",
     "output_type": "stream",
     "text": [
      "/var/folders/kw/s9r1_7lx3zn35g56dhqzfmwh0000gn/T/ipykernel_25108/328085989.py:35: PerformanceWarning: DataFrame is highly fragmented.  This is usually the result of calling `frame.insert` many times, which has poor performance.  Consider joining all columns at once using pd.concat(axis=1) instead. To get a de-fragmented frame, use `newframe = frame.copy()`\n",
      "  all_market_caps[name] = market_cap\n"
     ]
    },
    {
     "name": "stdout",
     "output_type": "stream",
     "text": [
      "Fetching market cap data for DEX (DEX-USD)...\n"
     ]
    },
    {
     "name": "stderr",
     "output_type": "stream",
     "text": [
      "/var/folders/kw/s9r1_7lx3zn35g56dhqzfmwh0000gn/T/ipykernel_25108/328085989.py:35: PerformanceWarning: DataFrame is highly fragmented.  This is usually the result of calling `frame.insert` many times, which has poor performance.  Consider joining all columns at once using pd.concat(axis=1) instead. To get a de-fragmented frame, use `newframe = frame.copy()`\n",
      "  all_market_caps[name] = market_cap\n"
     ]
    },
    {
     "name": "stdout",
     "output_type": "stream",
     "text": [
      "Fetching market cap data for SingularityNET (AGI-USD)...\n"
     ]
    },
    {
     "name": "stderr",
     "output_type": "stream",
     "text": [
      "/var/folders/kw/s9r1_7lx3zn35g56dhqzfmwh0000gn/T/ipykernel_25108/328085989.py:35: PerformanceWarning: DataFrame is highly fragmented.  This is usually the result of calling `frame.insert` many times, which has poor performance.  Consider joining all columns at once using pd.concat(axis=1) instead. To get a de-fragmented frame, use `newframe = frame.copy()`\n",
      "  all_market_caps[name] = market_cap\n"
     ]
    },
    {
     "name": "stdout",
     "output_type": "stream",
     "text": [
      "Fetching market cap data for Loom Network (LOOM-USD)...\n"
     ]
    },
    {
     "name": "stderr",
     "output_type": "stream",
     "text": [
      "/var/folders/kw/s9r1_7lx3zn35g56dhqzfmwh0000gn/T/ipykernel_25108/328085989.py:35: PerformanceWarning: DataFrame is highly fragmented.  This is usually the result of calling `frame.insert` many times, which has poor performance.  Consider joining all columns at once using pd.concat(axis=1) instead. To get a de-fragmented frame, use `newframe = frame.copy()`\n",
      "  all_market_caps[name] = market_cap\n"
     ]
    },
    {
     "name": "stdout",
     "output_type": "stream",
     "text": [
      "Fetching market cap data for Enjin Coin (ENJ-USD)...\n"
     ]
    },
    {
     "name": "stderr",
     "output_type": "stream",
     "text": [
      "/var/folders/kw/s9r1_7lx3zn35g56dhqzfmwh0000gn/T/ipykernel_25108/328085989.py:35: PerformanceWarning: DataFrame is highly fragmented.  This is usually the result of calling `frame.insert` many times, which has poor performance.  Consider joining all columns at once using pd.concat(axis=1) instead. To get a de-fragmented frame, use `newframe = frame.copy()`\n",
      "  all_market_caps[name] = market_cap\n"
     ]
    },
    {
     "name": "stdout",
     "output_type": "stream",
     "text": [
      "Fetching market cap data for Nxt (NXT-USD)...\n"
     ]
    },
    {
     "name": "stderr",
     "output_type": "stream",
     "text": [
      "/var/folders/kw/s9r1_7lx3zn35g56dhqzfmwh0000gn/T/ipykernel_25108/328085989.py:35: PerformanceWarning: DataFrame is highly fragmented.  This is usually the result of calling `frame.insert` many times, which has poor performance.  Consider joining all columns at once using pd.concat(axis=1) instead. To get a de-fragmented frame, use `newframe = frame.copy()`\n",
      "  all_market_caps[name] = market_cap\n"
     ]
    },
    {
     "name": "stdout",
     "output_type": "stream",
     "text": [
      "Fetching market cap data for Horizen (ZEN-USD)...\n"
     ]
    },
    {
     "name": "stderr",
     "output_type": "stream",
     "text": [
      "/var/folders/kw/s9r1_7lx3zn35g56dhqzfmwh0000gn/T/ipykernel_25108/328085989.py:35: PerformanceWarning: DataFrame is highly fragmented.  This is usually the result of calling `frame.insert` many times, which has poor performance.  Consider joining all columns at once using pd.concat(axis=1) instead. To get a de-fragmented frame, use `newframe = frame.copy()`\n",
      "  all_market_caps[name] = market_cap\n"
     ]
    },
    {
     "name": "stdout",
     "output_type": "stream",
     "text": [
      "Fetching market cap data for Kin (KIN-USD)...\n"
     ]
    },
    {
     "name": "stderr",
     "output_type": "stream",
     "text": [
      "/var/folders/kw/s9r1_7lx3zn35g56dhqzfmwh0000gn/T/ipykernel_25108/328085989.py:35: PerformanceWarning: DataFrame is highly fragmented.  This is usually the result of calling `frame.insert` many times, which has poor performance.  Consider joining all columns at once using pd.concat(axis=1) instead. To get a de-fragmented frame, use `newframe = frame.copy()`\n",
      "  all_market_caps[name] = market_cap\n"
     ]
    },
    {
     "name": "stdout",
     "output_type": "stream",
     "text": [
      "Fetching market cap data for Nebulas (NAS-USD)...\n"
     ]
    },
    {
     "name": "stderr",
     "output_type": "stream",
     "text": [
      "/var/folders/kw/s9r1_7lx3zn35g56dhqzfmwh0000gn/T/ipykernel_25108/328085989.py:35: PerformanceWarning: DataFrame is highly fragmented.  This is usually the result of calling `frame.insert` many times, which has poor performance.  Consider joining all columns at once using pd.concat(axis=1) instead. To get a de-fragmented frame, use `newframe = frame.copy()`\n",
      "  all_market_caps[name] = market_cap\n"
     ]
    },
    {
     "name": "stdout",
     "output_type": "stream",
     "text": [
      "Fetching market cap data for ProximaX (XPX-USD)...\n"
     ]
    },
    {
     "name": "stderr",
     "output_type": "stream",
     "text": [
      "/var/folders/kw/s9r1_7lx3zn35g56dhqzfmwh0000gn/T/ipykernel_25108/328085989.py:35: PerformanceWarning: DataFrame is highly fragmented.  This is usually the result of calling `frame.insert` many times, which has poor performance.  Consider joining all columns at once using pd.concat(axis=1) instead. To get a de-fragmented frame, use `newframe = frame.copy()`\n",
      "  all_market_caps[name] = market_cap\n"
     ]
    },
    {
     "name": "stdout",
     "output_type": "stream",
     "text": [
      "Fetching market cap data for Credo (CREDO-USD)...\n"
     ]
    },
    {
     "name": "stderr",
     "output_type": "stream",
     "text": [
      "$CREDO-USD: possibly delisted; no timezone found\n"
     ]
    },
    {
     "name": "stdout",
     "output_type": "stream",
     "text": [
      "Fetching market cap data for Eidoo (EDO-USD)...\n"
     ]
    },
    {
     "name": "stderr",
     "output_type": "stream",
     "text": [
      "$EDO-USD: possibly delisted; no timezone found\n"
     ]
    },
    {
     "name": "stdout",
     "output_type": "stream",
     "text": [
      "Fetching market cap data for Endor Protocol (EDR-USD)...\n"
     ]
    },
    {
     "name": "stderr",
     "output_type": "stream",
     "text": [
      "/var/folders/kw/s9r1_7lx3zn35g56dhqzfmwh0000gn/T/ipykernel_25108/328085989.py:35: PerformanceWarning: DataFrame is highly fragmented.  This is usually the result of calling `frame.insert` many times, which has poor performance.  Consider joining all columns at once using pd.concat(axis=1) instead. To get a de-fragmented frame, use `newframe = frame.copy()`\n",
      "  all_market_caps[name] = market_cap\n"
     ]
    },
    {
     "name": "stdout",
     "output_type": "stream",
     "text": [
      "Fetching market cap data for Syscoin (SYS-USD)...\n"
     ]
    },
    {
     "name": "stderr",
     "output_type": "stream",
     "text": [
      "/var/folders/kw/s9r1_7lx3zn35g56dhqzfmwh0000gn/T/ipykernel_25108/328085989.py:35: PerformanceWarning: DataFrame is highly fragmented.  This is usually the result of calling `frame.insert` many times, which has poor performance.  Consider joining all columns at once using pd.concat(axis=1) instead. To get a de-fragmented frame, use `newframe = frame.copy()`\n",
      "  all_market_caps[name] = market_cap\n"
     ]
    },
    {
     "name": "stdout",
     "output_type": "stream",
     "text": [
      "Fetching market cap data for FunFair (FUN-USD)...\n"
     ]
    },
    {
     "name": "stderr",
     "output_type": "stream",
     "text": [
      "/var/folders/kw/s9r1_7lx3zn35g56dhqzfmwh0000gn/T/ipykernel_25108/328085989.py:35: PerformanceWarning: DataFrame is highly fragmented.  This is usually the result of calling `frame.insert` many times, which has poor performance.  Consider joining all columns at once using pd.concat(axis=1) instead. To get a de-fragmented frame, use `newframe = frame.copy()`\n",
      "  all_market_caps[name] = market_cap\n"
     ]
    },
    {
     "name": "stdout",
     "output_type": "stream",
     "text": [
      "Daily market cap data saved to 'daily_market_caps.csv'\n"
     ]
    }
   ],
   "execution_count": 2
  }
 ],
 "metadata": {
  "kernelspec": {
   "display_name": "Python 3",
   "language": "python",
   "name": "python3"
  },
  "language_info": {
   "codemirror_mode": {
    "name": "ipython",
    "version": 2
   },
   "file_extension": ".py",
   "mimetype": "text/x-python",
   "name": "python",
   "nbconvert_exporter": "python",
   "pygments_lexer": "ipython2",
   "version": "2.7.6"
  }
 },
 "nbformat": 4,
 "nbformat_minor": 5
}
