{
 "cells": [
  {
   "cell_type": "code",
   "id": "initial_id",
   "metadata": {
    "collapsed": true,
    "ExecuteTime": {
     "end_time": "2024-11-18T16:27:56.519151Z",
     "start_time": "2024-11-18T16:26:45.542974Z"
    }
   },
   "source": [
    "import os\n",
    "import pandas as pd\n",
    "from glob import glob\n",
    "\n",
    "# Specify the folder containing your daily Excel/CSV files\n",
    "project_folder = \"daily_sorted_mcap_125_assets/\"\n",
    "\n",
    "# Create lists to hold the dataframes\n",
    "id_history_list = []\n",
    "mcap_history_list = []\n",
    "\n",
    "# Iterate through all the files in the folder\n",
    "for file in glob(os.path.join(project_folder, \"*.csv\")):\n",
    "    # Extract the date from the filename (assuming YYYY-MM-DD format)\n",
    "    date = os.path.basename(file).replace(\".csv\", \"\")\n",
    "    \n",
    "    # Read the file into a DataFrame\n",
    "    df = pd.read_csv(file)\n",
    "    \n",
    "    # Check if the necessary columns exist in the file\n",
    "    if \"ID\" in df.columns and \"Market Cap (USD)\" in df.columns:\n",
    "        # Create DataFrames with the date as a column\n",
    "        id_row = pd.DataFrame({date: df[\"ID\"]}).T\n",
    "        mcap_row = pd.DataFrame({date: df[\"Market Cap (USD)\"]}).T\n",
    "        \n",
    "        # Set the index name for proper formatting\n",
    "        id_row.index.name = \"date\"\n",
    "        mcap_row.index.name = \"date\"\n",
    "        \n",
    "        # Append to the lists\n",
    "        id_history_list.append(id_row)\n",
    "        mcap_history_list.append(mcap_row)\n",
    "\n",
    "# Concatenate all the dataframes to form the final datasets\n",
    "id_history_df = pd.concat(id_history_list, axis=0)\n",
    "mcap_history_df = pd.concat(mcap_history_list, axis=0)\n",
    "\n",
    "# Save the results to CSV files\n",
    "id_history_file = \"ID_History.csv\"\n",
    "mcap_history_file = \"MarketCap_History.csv\"\n",
    "\n",
    "id_history_df.to_csv(id_history_file)\n",
    "mcap_history_df.to_csv(mcap_history_file)\n",
    "\n",
    "print(f\"ID History saved to {id_history_file}\")\n",
    "print(f\"Market Cap History saved to {mcap_history_file}\")\n"
   ],
   "outputs": [
    {
     "name": "stdout",
     "output_type": "stream",
     "text": [
      "ID History saved to ID_History.csv\n",
      "Market Cap History saved to MarketCap_History.csv\n"
     ]
    }
   ],
   "execution_count": 2
  }
 ],
 "metadata": {
  "kernelspec": {
   "display_name": "Python 3",
   "language": "python",
   "name": "python3"
  },
  "language_info": {
   "codemirror_mode": {
    "name": "ipython",
    "version": 2
   },
   "file_extension": ".py",
   "mimetype": "text/x-python",
   "name": "python",
   "nbconvert_exporter": "python",
   "pygments_lexer": "ipython2",
   "version": "2.7.6"
  }
 },
 "nbformat": 4,
 "nbformat_minor": 5
}
