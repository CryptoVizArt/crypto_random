{
 "cells": [
  {
   "cell_type": "code",
   "id": "initial_id",
   "metadata": {
    "collapsed": true,
    "ExecuteTime": {
     "end_time": "2024-11-15T04:14:05.546573Z",
     "start_time": "2024-11-15T04:09:40.922500Z"
    }
   },
   "source": [
    "import pandas as pd\n",
    "import yfinance as yf\n",
    "from datetime import datetime\n",
    "import time\n",
    "import matplotlib.pyplot as plt\n",
    "import numpy as np\n",
    "\n",
    "def get_and_plot_market_caps():\n",
    "    # Read the CSV file\n",
    "    df = pd.read_csv('coinmarketcap_20190106_top_125.csv')\n",
    "    \n",
    "    # Create symbol mapping dictionary\n",
    "    symbol_mapping = {\n",
    "        row['Name']: f\"{row['Symbol']}-USD\"\n",
    "        for _, row in df.iterrows()\n",
    "    }\n",
    "    \n",
    "    # Dictionary to store market caps for each crypto\n",
    "    market_caps_dict = {}\n",
    "    \n",
    "    # Define the date range\n",
    "    start_date = '2019-01-01'\n",
    "    end_date = datetime.now().strftime('%Y-%m-%d')\n",
    "    \n",
    "    # Loop through each cryptocurrency\n",
    "    for name, symbol in symbol_mapping.items():\n",
    "        try:\n",
    "            print(f\"Fetching market cap data for {name} ({symbol})...\")\n",
    "            \n",
    "            # Fetch data from Yahoo Finance\n",
    "            ticker = yf.Ticker(symbol)\n",
    "            hist = ticker.history(start=start_date, end=end_date)\n",
    "            \n",
    "            if not hist.empty:\n",
    "                # Calculate market cap (Close Price * Volume)\n",
    "                market_caps_dict[name] = hist['Close'] * hist['Volume']\n",
    "            \n",
    "            # Add a small delay to avoid hitting rate limits\n",
    "            time.sleep(1)\n",
    "            \n",
    "        except Exception as e:\n",
    "            print(f\"Error fetching data for {name} ({symbol}): {str(e)}\")\n",
    "            continue\n",
    "    \n",
    "    # Combine all market caps into a single DataFrame\n",
    "    if market_caps_dict:\n",
    "        all_market_caps = pd.concat(market_caps_dict, axis=1)\n",
    "        \n",
    "        # Save raw data to CSV\n",
    "        all_market_caps.to_csv('daily_market_caps.csv')\n",
    "        print(\"Daily market cap data saved to 'daily_market_caps.csv'\")\n",
    "        \n",
    "        # Create the dominance plot\n",
    "        print(\"Creating dominance plot...\")\n",
    "        \n",
    "        # Fill NaN values with the mean of available values for each date\n",
    "        df_filled = all_market_caps.apply(lambda x: x.fillna(x.mean()), axis=1)\n",
    "        \n",
    "        # Calculate total market cap excluding Bitcoin\n",
    "        others_market_cap = df_filled.drop('Bitcoin', axis=1).sum(axis=1)\n",
    "        \n",
    "        # Calculate Bitcoin dominance\n",
    "        btc_dominance = (df_filled['Bitcoin'] / (df_filled['Bitcoin'] + others_market_cap)) * 100\n",
    "        \n",
    "        # Create the figure and axis objects with a single subplot\n",
    "        fig, ax1 = plt.subplots(figsize=(15, 8))\n",
    "        \n",
    "        # Plot others market cap on primary y-axis\n",
    "        color = 'tab:blue'\n",
    "        ax1.set_xlabel('Date')\n",
    "        ax1.set_ylabel('Total Market Cap (USD)', color=color)\n",
    "        ax1.plot(others_market_cap.index, others_market_cap, color=color)\n",
    "        ax1.tick_params(axis='y', labelcolor=color)\n",
    "        \n",
    "        # Format y-axis to show billions\n",
    "        ax1.yaxis.set_major_formatter(plt.FuncFormatter(lambda x, p: f'${x/1e9:.1f}B'))\n",
    "        \n",
    "        # Create second y-axis that shares the same x-axis\n",
    "        ax2 = ax1.twinx()\n",
    "        \n",
    "        # Plot Bitcoin dominance on secondary y-axis\n",
    "        color = 'tab:red'\n",
    "        ax2.set_ylabel('Bitcoin Dominance (%)', color=color)\n",
    "        ax2.plot(btc_dominance.index, btc_dominance, color=color)\n",
    "        ax2.tick_params(axis='y', labelcolor=color)\n",
    "        \n",
    "        # Rotate x-axis labels for better readability\n",
    "        plt.xticks(rotation=45)\n",
    "        \n",
    "        # Add title\n",
    "        plt.title('Cryptocurrency Market Cap vs Bitcoin Dominance')\n",
    "        \n",
    "        # Add legend\n",
    "        lines1, labels1 = ax1.get_legend_handles_labels()\n",
    "        lines2, labels2 = ax2.get_legend_handles_labels()\n",
    "        ax1.legend(['Total Market Cap (excl. BTC)'], loc='upper left')\n",
    "        ax2.legend(['BTC Dominance'], loc='upper right')\n",
    "        \n",
    "        # Adjust layout to prevent label cutoff\n",
    "        plt.tight_layout()\n",
    "        \n",
    "        # Save the plot and data\n",
    "        plt.savefig('crypto_dominance.png', dpi=300, bbox_inches='tight')\n",
    "        plt.close()\n",
    "        \n",
    "        # Save the analysis data\n",
    "        pd.DataFrame({\n",
    "            'Total Market Cap (excl. BTC)': others_market_cap,\n",
    "            'BTC Dominance (%)': btc_dominance\n",
    "        }).to_csv('dominance_analysis.csv')\n",
    "        \n",
    "        print(\"Analysis completed! Check 'crypto_dominance.png' and 'dominance_analysis.csv' for results.\")\n",
    "    else:\n",
    "        print(\"No data was collected\")\n",
    "\n",
    "if __name__ == \"__main__\":\n",
    "    get_and_plot_market_caps()"
   ],
   "outputs": [
    {
     "name": "stdout",
     "output_type": "stream",
     "text": [
      "Fetching market cap data for Bitcoin (BTC-USD)...\n",
      "Fetching market cap data for Ethereum (ETH-USD)...\n",
      "Fetching market cap data for XRP (XRP-USD)...\n",
      "Fetching market cap data for Bitcoin Cash (BCH-USD)...\n",
      "Fetching market cap data for EOS (EOS-USD)...\n",
      "Fetching market cap data for Litecoin (LTC-USD)...\n",
      "Fetching market cap data for Stellar (XLM-USD)...\n",
      "Fetching market cap data for Tether (USDT-USD)...\n",
      "Fetching market cap data for Bitcoin SV (BSV-USD)...\n",
      "Fetching market cap data for TRON (TRX-USD)...\n",
      "Fetching market cap data for Cardano (ADA-USD)...\n",
      "Fetching market cap data for IOTA (MIOTA-USD)...\n",
      "Fetching market cap data for Monero (XMR-USD)...\n",
      "Fetching market cap data for Binance Coin (BNB-USD)...\n",
      "Fetching market cap data for Dash (DASH-USD)...\n",
      "Fetching market cap data for NEM (XEM-USD)...\n",
      "Fetching market cap data for Ethereum Classic (ETC-USD)...\n",
      "Fetching market cap data for Neo (NEO-USD)...\n",
      "Fetching market cap data for Maker (MKR-USD)...\n",
      "Fetching market cap data for Zcash (ZEC-USD)...\n",
      "Fetching market cap data for Waves (WAVES-USD)...\n",
      "Fetching market cap data for USD Coin (USDC-USD)...\n",
      "Fetching market cap data for Tezos (XTZ-USD)...\n",
      "Fetching market cap data for Dogecoin (DOGE-USD)...\n",
      "Fetching market cap data for Bitcoin Gold (BTG-USD)...\n",
      "Fetching market cap data for VeChain (VET-USD)...\n",
      "Fetching market cap data for OmiseGO (OMG-USD)...\n",
      "Fetching market cap data for Qtum (QTUM-USD)...\n",
      "Fetching market cap data for TrueUSD (TUSD-USD)...\n",
      "Fetching market cap data for Zilliqa (ZIL-USD)...\n",
      "Fetching market cap data for Ontology (ONT-USD)...\n",
      "Fetching market cap data for 0x (ZRX-USD)...\n",
      "Fetching market cap data for Decred (DCR-USD)...\n",
      "Fetching market cap data for Basic Attention Token (BAT-USD)...\n",
      "Fetching market cap data for Lisk (LSK-USD)...\n",
      "Fetching market cap data for Bitcoin Diamond (BCD-USD)...\n",
      "Fetching market cap data for Bytecoin (BCN-USD)...\n",
      "Fetching market cap data for Chainlink (LINK-USD)...\n",
      "Fetching market cap data for ICON (ICX-USD)...\n",
      "Fetching market cap data for Nano (NANO-USD)...\n",
      "Fetching market cap data for DigiByte (DGB-USD)...\n",
      "Fetching market cap data for Revain (R-USD)...\n",
      "Fetching market cap data for Paxos Standard (PAX-USD)...\n"
     ]
    },
    {
     "name": "stderr",
     "output_type": "stream",
     "text": [
      "$PAX-USD: possibly delisted; no timezone found\n"
     ]
    },
    {
     "name": "stdout",
     "output_type": "stream",
     "text": [
      "Fetching market cap data for BitShares (BTS-USD)...\n",
      "Fetching market cap data for Verge (XVG-USD)...\n",
      "Fetching market cap data for Siacoin (SC-USD)...\n",
      "Fetching market cap data for Stratis (STRAT-USD)...\n",
      "Fetching market cap data for Augur (REP-USD)...\n",
      "Fetching market cap data for Aeternity (AE-USD)...\n",
      "Fetching market cap data for Steem (STEEM-USD)...\n",
      "Fetching market cap data for Gemini Dollar (GUSD-USD)...\n",
      "Fetching market cap data for Komodo (KMD-USD)...\n",
      "Fetching market cap data for Populous (PPT-USD)...\n",
      "Fetching market cap data for Bytom (BTM-USD)...\n",
      "Fetching market cap data for Buggyra Coin Zero (BCZERO-USD)...\n"
     ]
    },
    {
     "name": "stderr",
     "output_type": "stream",
     "text": [
      "$BCZERO-USD: possibly delisted; no timezone found\n"
     ]
    },
    {
     "name": "stdout",
     "output_type": "stream",
     "text": [
      "Fetching market cap data for Pundi X (NPXS-USD)...\n",
      "Fetching market cap data for IOST (IOST-USD)...\n",
      "Fetching market cap data for Holo (HOT-USD)...\n",
      "Fetching market cap data for Aurora (AOA-USD)...\n",
      "Fetching market cap data for Single Collateral DAI (SAI-USD)...\n",
      "Fetching market cap data for Golem (GNT-USD)...\n",
      "Fetching market cap data for Factom (FCT-USD)...\n",
      "Fetching market cap data for Status (SNT-USD)...\n",
      "Fetching market cap data for Electroneum (ETN-USD)...\n",
      "Fetching market cap data for Dentacoin (DCN-USD)...\n",
      "Fetching market cap data for Cryptonex (CNX-USD)...\n",
      "Fetching market cap data for MaidSafeCoin (MAID-USD)...\n",
      "Fetching market cap data for ODEM (ODE-USD)...\n",
      "Fetching market cap data for Ardor (ARDR-USD)...\n",
      "Fetching market cap data for Huobi Token (HT-USD)...\n",
      "Fetching market cap data for KuCoin Shares (KCS-USD)...\n",
      "Fetching market cap data for REPO (REPO-USD)...\n",
      "Fetching market cap data for PIVX (PIVX-USD)...\n",
      "Fetching market cap data for Ark (ARK-USD)...\n",
      "Fetching market cap data for Waltonchain (WTC-USD)...\n",
      "Fetching market cap data for Decentraland (MANA-USD)...\n",
      "Fetching market cap data for Insight Chain (INB-USD)...\n",
      "Fetching market cap data for Aion (AION-USD)...\n",
      "Fetching market cap data for Nexo (NEXO-USD)...\n",
      "Fetching market cap data for DigixDAO (DGD-USD)...\n",
      "Fetching market cap data for Mixin (XIN-USD)...\n",
      "Fetching market cap data for Bancor (BNT-USD)...\n",
      "Fetching market cap data for MCO (MCO-USD)...\n",
      "Fetching market cap data for Polymath (POLY-USD)...\n",
      "Fetching market cap data for MobileGo (MGO-USD)...\n",
      "Fetching market cap data for MonaCoin (MONA-USD)...\n",
      "Fetching market cap data for MassGrid (MGD-USD)...\n",
      "Fetching market cap data for HyperCash (HC-USD)...\n",
      "Fetching market cap data for Wanchain (WAN-USD)...\n",
      "Fetching market cap data for QASH (QASH-USD)...\n",
      "Fetching market cap data for Elastos (ELA-USD)...\n",
      "Fetching market cap data for Linkey (LKY-USD)...\n",
      "Fetching market cap data for ReddCoin (RDD-USD)...\n",
      "Fetching market cap data for Ravencoin (RVN-USD)...\n",
      "Fetching market cap data for WAX (WAXP-USD)...\n",
      "Fetching market cap data for Maximine Coin (MXM-USD)...\n",
      "Fetching market cap data for THETA (THETA-USD)...\n",
      "Fetching market cap data for Metaverse ETP (ETP-USD)...\n",
      "Fetching market cap data for MOAC (MOAC-USD)...\n",
      "Fetching market cap data for Zcoin (XZC-USD)...\n",
      "Fetching market cap data for aelf (ELF-USD)...\n",
      "Fetching market cap data for Digitex Futures (DGTX-USD)...\n",
      "Fetching market cap data for STASIS EURO (EURS-USD)...\n",
      "Fetching market cap data for GXChain (GXC-USD)...\n",
      "Fetching market cap data for Loopring (LRC-USD)...\n",
      "Fetching market cap data for Power Ledger (POWR-USD)...\n",
      "Fetching market cap data for Mithril (MITH-USD)...\n",
      "Fetching market cap data for Bitcoin Private (BTCP-USD)...\n",
      "Fetching market cap data for Veritaseum (VERI-USD)...\n",
      "Fetching market cap data for QuarkChain (QKC-USD)...\n",
      "Fetching market cap data for Crypto.com Coin (CRO-USD)...\n",
      "Fetching market cap data for DEX (DEX-USD)...\n",
      "Fetching market cap data for SingularityNET (AGI-USD)...\n"
     ]
    },
    {
     "name": "stderr",
     "output_type": "stream",
     "text": [
      "$LOOM-USD: possibly delisted; no price data found  (1d 2019-01-01 -> 2024-11-15)\n"
     ]
    },
    {
     "name": "stdout",
     "output_type": "stream",
     "text": [
      "Fetching market cap data for Loom Network (LOOM-USD)...\n",
      "Fetching market cap data for Enjin Coin (ENJ-USD)...\n",
      "Fetching market cap data for Nxt (NXT-USD)...\n",
      "Fetching market cap data for Horizen (ZEN-USD)...\n",
      "Fetching market cap data for Kin (KIN-USD)...\n",
      "Fetching market cap data for Nebulas (NAS-USD)...\n",
      "Fetching market cap data for ProximaX (XPX-USD)...\n",
      "Fetching market cap data for Credo (CREDO-USD)...\n"
     ]
    },
    {
     "name": "stderr",
     "output_type": "stream",
     "text": [
      "Failed to get ticker 'CREDO-USD' reason: ('Connection aborted.', RemoteDisconnected('Remote end closed connection without response'))\n",
      "$CREDO-USD: possibly delisted; no timezone found\n"
     ]
    },
    {
     "name": "stdout",
     "output_type": "stream",
     "text": [
      "Fetching market cap data for Eidoo (EDO-USD)...\n"
     ]
    },
    {
     "name": "stderr",
     "output_type": "stream",
     "text": [
      "Failed to get ticker 'EDO-USD' reason: ('Connection aborted.', RemoteDisconnected('Remote end closed connection without response'))\n",
      "$EDO-USD: possibly delisted; no timezone found\n"
     ]
    },
    {
     "name": "stdout",
     "output_type": "stream",
     "text": [
      "Fetching market cap data for Endor Protocol (EDR-USD)...\n"
     ]
    },
    {
     "name": "stderr",
     "output_type": "stream",
     "text": [
      "$EDR-USD: possibly delisted; no price data found  (1d 2019-01-01 -> 2024-11-15)\n"
     ]
    },
    {
     "name": "stdout",
     "output_type": "stream",
     "text": [
      "Fetching market cap data for Syscoin (SYS-USD)...\n",
      "Fetching market cap data for FunFair (FUN-USD)...\n",
      "Daily market cap data saved to 'daily_market_caps.csv'\n",
      "Creating dominance plot...\n",
      "Analysis completed! Check 'crypto_dominance.png' and 'dominance_analysis.csv' for results.\n"
     ]
    }
   ],
   "execution_count": 5
  }
 ],
 "metadata": {
  "kernelspec": {
   "display_name": "Python 3",
   "language": "python",
   "name": "python3"
  },
  "language_info": {
   "codemirror_mode": {
    "name": "ipython",
    "version": 2
   },
   "file_extension": ".py",
   "mimetype": "text/x-python",
   "name": "python",
   "nbconvert_exporter": "python",
   "pygments_lexer": "ipython2",
   "version": "2.7.6"
  }
 },
 "nbformat": 4,
 "nbformat_minor": 5
}
