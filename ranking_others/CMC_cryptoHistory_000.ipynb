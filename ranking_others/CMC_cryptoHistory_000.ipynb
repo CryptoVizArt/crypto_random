{
 "cells": [
  {
   "cell_type": "code",
   "id": "initial_id",
   "metadata": {
    "collapsed": true,
    "ExecuteTime": {
     "end_time": "2024-11-15T03:49:06.274963Z",
     "start_time": "2024-11-15T03:49:05.767780Z"
    }
   },
   "source": [
    "from selenium import webdriver\n",
    "from selenium.webdriver.common.by import By\n",
    "from selenium.webdriver.chrome.service import Service\n",
    "from webdriver_manager.chrome import ChromeDriverManager\n",
    "import time\n",
    "import pandas as pd\n",
    "\n",
    "# Use ChromeDriverManager to automatically handle driver setup\n",
    "driver = webdriver.Chrome(service=Service(ChromeDriverManager().install()))\n",
    "\n",
    "# Navigate to the CoinMarketCap historical page for January 6, 2019\n",
    "url = 'https://coinmarketcap.com/historical/20210103/'\n",
    "driver.get(url)\n",
    "\n",
    "# Allow initial load\n",
    "time.sleep(5)\n",
    "\n",
    "# Initialize data storage\n",
    "data = []\n",
    "assets_loaded = 0\n",
    "\n",
    "# Continue scrolling until we capture 125 assets\n",
    "while assets_loaded < 125:\n",
    "    try:\n",
    "        # Locate the table rows containing assets data\n",
    "        table_rows = driver.find_elements(By.CSS_SELECTOR, \"tbody tr\")\n",
    "        \n",
    "        # Extract data for each asset if new rows are loaded\n",
    "        if len(table_rows) > assets_loaded:\n",
    "            for row in table_rows[assets_loaded:]:\n",
    "                try:\n",
    "                    columns = row.find_elements(By.TAG_NAME, \"td\")\n",
    "                    if len(columns) >= 10:  # Ensure row has the expected number of columns\n",
    "                        rank = columns[0].text\n",
    "                        name = columns[1].text\n",
    "                        symbol = columns[2].text\n",
    "                        market_cap = columns[3].text\n",
    "                        price = columns[4].text\n",
    "                        circulating_supply = columns[5].text\n",
    "                        volume_24h = columns[6].text\n",
    "                        change_1h = columns[7].text\n",
    "                        change_24h = columns[8].text\n",
    "                        change_7d = columns[9].text\n",
    "\n",
    "                        # Append data for the asset\n",
    "                        data.append([rank, name, symbol, market_cap, price, circulating_supply, volume_24h, change_1h, change_24h, change_7d])\n",
    "                        assets_loaded += 1\n",
    "\n",
    "                        # Stop if we've captured 125 assets\n",
    "                        if assets_loaded >= 125:\n",
    "                            break\n",
    "                except Exception as e:\n",
    "                    print(f\"Error extracting row data: {e}\")\n",
    "        else:\n",
    "            # Scroll down and wait for the new assets to load\n",
    "            driver.execute_script(\"window.scrollTo(0, document.body.scrollHeight);\")\n",
    "            time.sleep(3)\n",
    "    except Exception as e:\n",
    "        print(f\"Error locating rows: {e}\")\n",
    "        # Re-scroll to try again\n",
    "        driver.execute_script(\"window.scrollTo(0, document.body.scrollHeight);\")\n",
    "        time.sleep(3)\n",
    "\n",
    "# Close the browser\n",
    "driver.quit()\n",
    "\n",
    "# Create a DataFrame with the data\n",
    "columns = [\"Rank\", \"Name\", \"Symbol\", \"Market Cap\", \"Price\", \"Circulating Supply\", \"Volume (24h)\", \"% 1h\", \"% 24h\", \"% 7d\"]\n",
    "df = pd.DataFrame(data, columns=columns)\n",
    "\n",
    "# Display the DataFrame (or save to a file if needed)\n",
    "print(df)\n",
    "\n",
    "# Optional: Save to CSV\n",
    "df.to_csv(\"coinmarketcap_20210103_top_125.csv\", index=False)"
   ],
   "outputs": [
    {
     "ename": "WebDriverException",
     "evalue": "Message: Service /Users/maziyarmahmoodi/.wdm/drivers/chromedriver/mac64/131.0.6778.69/chromedriver-mac-arm64/chromedriver unexpectedly exited. Status code was: -9\n",
     "output_type": "error",
     "traceback": [
      "\u001B[0;31m---------------------------------------------------------------------------\u001B[0m",
      "\u001B[0;31mWebDriverException\u001B[0m                        Traceback (most recent call last)",
      "Cell \u001B[0;32mIn[9], line 9\u001B[0m\n\u001B[1;32m      6\u001B[0m \u001B[38;5;28;01mimport\u001B[39;00m \u001B[38;5;21;01mpandas\u001B[39;00m \u001B[38;5;28;01mas\u001B[39;00m \u001B[38;5;21;01mpd\u001B[39;00m\n\u001B[1;32m      8\u001B[0m \u001B[38;5;66;03m# Use ChromeDriverManager to automatically handle driver setup\u001B[39;00m\n\u001B[0;32m----> 9\u001B[0m driver \u001B[38;5;241m=\u001B[39m \u001B[43mwebdriver\u001B[49m\u001B[38;5;241;43m.\u001B[39;49m\u001B[43mChrome\u001B[49m\u001B[43m(\u001B[49m\u001B[43mservice\u001B[49m\u001B[38;5;241;43m=\u001B[39;49m\u001B[43mService\u001B[49m\u001B[43m(\u001B[49m\u001B[43mChromeDriverManager\u001B[49m\u001B[43m(\u001B[49m\u001B[43m)\u001B[49m\u001B[38;5;241;43m.\u001B[39;49m\u001B[43minstall\u001B[49m\u001B[43m(\u001B[49m\u001B[43m)\u001B[49m\u001B[43m)\u001B[49m\u001B[43m)\u001B[49m\n\u001B[1;32m     11\u001B[0m \u001B[38;5;66;03m# Navigate to the CoinMarketCap historical page for January 6, 2019\u001B[39;00m\n\u001B[1;32m     12\u001B[0m url \u001B[38;5;241m=\u001B[39m \u001B[38;5;124m'\u001B[39m\u001B[38;5;124mhttps://coinmarketcap.com/historical/20210103/\u001B[39m\u001B[38;5;124m'\u001B[39m\n",
      "File \u001B[0;32m~/Desktop/projects/crypto_random/venv/lib/python3.12/site-packages/selenium/webdriver/chrome/webdriver.py:45\u001B[0m, in \u001B[0;36mWebDriver.__init__\u001B[0;34m(self, options, service, keep_alive)\u001B[0m\n\u001B[1;32m     42\u001B[0m service \u001B[38;5;241m=\u001B[39m service \u001B[38;5;28;01mif\u001B[39;00m service \u001B[38;5;28;01melse\u001B[39;00m Service()\n\u001B[1;32m     43\u001B[0m options \u001B[38;5;241m=\u001B[39m options \u001B[38;5;28;01mif\u001B[39;00m options \u001B[38;5;28;01melse\u001B[39;00m Options()\n\u001B[0;32m---> 45\u001B[0m \u001B[38;5;28;43msuper\u001B[39;49m\u001B[43m(\u001B[49m\u001B[43m)\u001B[49m\u001B[38;5;241;43m.\u001B[39;49m\u001B[38;5;21;43m__init__\u001B[39;49m\u001B[43m(\u001B[49m\n\u001B[1;32m     46\u001B[0m \u001B[43m    \u001B[49m\u001B[43mbrowser_name\u001B[49m\u001B[38;5;241;43m=\u001B[39;49m\u001B[43mDesiredCapabilities\u001B[49m\u001B[38;5;241;43m.\u001B[39;49m\u001B[43mCHROME\u001B[49m\u001B[43m[\u001B[49m\u001B[38;5;124;43m\"\u001B[39;49m\u001B[38;5;124;43mbrowserName\u001B[39;49m\u001B[38;5;124;43m\"\u001B[39;49m\u001B[43m]\u001B[49m\u001B[43m,\u001B[49m\n\u001B[1;32m     47\u001B[0m \u001B[43m    \u001B[49m\u001B[43mvendor_prefix\u001B[49m\u001B[38;5;241;43m=\u001B[39;49m\u001B[38;5;124;43m\"\u001B[39;49m\u001B[38;5;124;43mgoog\u001B[39;49m\u001B[38;5;124;43m\"\u001B[39;49m\u001B[43m,\u001B[49m\n\u001B[1;32m     48\u001B[0m \u001B[43m    \u001B[49m\u001B[43moptions\u001B[49m\u001B[38;5;241;43m=\u001B[39;49m\u001B[43moptions\u001B[49m\u001B[43m,\u001B[49m\n\u001B[1;32m     49\u001B[0m \u001B[43m    \u001B[49m\u001B[43mservice\u001B[49m\u001B[38;5;241;43m=\u001B[39;49m\u001B[43mservice\u001B[49m\u001B[43m,\u001B[49m\n\u001B[1;32m     50\u001B[0m \u001B[43m    \u001B[49m\u001B[43mkeep_alive\u001B[49m\u001B[38;5;241;43m=\u001B[39;49m\u001B[43mkeep_alive\u001B[49m\u001B[43m,\u001B[49m\n\u001B[1;32m     51\u001B[0m \u001B[43m\u001B[49m\u001B[43m)\u001B[49m\n",
      "File \u001B[0;32m~/Desktop/projects/crypto_random/venv/lib/python3.12/site-packages/selenium/webdriver/chromium/webdriver.py:55\u001B[0m, in \u001B[0;36mChromiumDriver.__init__\u001B[0;34m(self, browser_name, vendor_prefix, options, service, keep_alive)\u001B[0m\n\u001B[1;32m     52\u001B[0m     options\u001B[38;5;241m.\u001B[39mbrowser_version \u001B[38;5;241m=\u001B[39m \u001B[38;5;28;01mNone\u001B[39;00m\n\u001B[1;32m     54\u001B[0m \u001B[38;5;28mself\u001B[39m\u001B[38;5;241m.\u001B[39mservice\u001B[38;5;241m.\u001B[39mpath \u001B[38;5;241m=\u001B[39m \u001B[38;5;28mself\u001B[39m\u001B[38;5;241m.\u001B[39mservice\u001B[38;5;241m.\u001B[39menv_path() \u001B[38;5;129;01mor\u001B[39;00m finder\u001B[38;5;241m.\u001B[39mget_driver_path()\n\u001B[0;32m---> 55\u001B[0m \u001B[38;5;28;43mself\u001B[39;49m\u001B[38;5;241;43m.\u001B[39;49m\u001B[43mservice\u001B[49m\u001B[38;5;241;43m.\u001B[39;49m\u001B[43mstart\u001B[49m\u001B[43m(\u001B[49m\u001B[43m)\u001B[49m\n\u001B[1;32m     57\u001B[0m executor \u001B[38;5;241m=\u001B[39m ChromiumRemoteConnection(\n\u001B[1;32m     58\u001B[0m     remote_server_addr\u001B[38;5;241m=\u001B[39m\u001B[38;5;28mself\u001B[39m\u001B[38;5;241m.\u001B[39mservice\u001B[38;5;241m.\u001B[39mservice_url,\n\u001B[1;32m     59\u001B[0m     browser_name\u001B[38;5;241m=\u001B[39mbrowser_name,\n\u001B[0;32m   (...)\u001B[0m\n\u001B[1;32m     62\u001B[0m     ignore_proxy\u001B[38;5;241m=\u001B[39moptions\u001B[38;5;241m.\u001B[39m_ignore_local_proxy,\n\u001B[1;32m     63\u001B[0m )\n\u001B[1;32m     65\u001B[0m \u001B[38;5;28;01mtry\u001B[39;00m:\n",
      "File \u001B[0;32m~/Desktop/projects/crypto_random/venv/lib/python3.12/site-packages/selenium/webdriver/common/service.py:108\u001B[0m, in \u001B[0;36mService.start\u001B[0;34m(self)\u001B[0m\n\u001B[1;32m    106\u001B[0m count \u001B[38;5;241m=\u001B[39m \u001B[38;5;241m0\u001B[39m\n\u001B[1;32m    107\u001B[0m \u001B[38;5;28;01mwhile\u001B[39;00m \u001B[38;5;28;01mTrue\u001B[39;00m:\n\u001B[0;32m--> 108\u001B[0m     \u001B[38;5;28;43mself\u001B[39;49m\u001B[38;5;241;43m.\u001B[39;49m\u001B[43massert_process_still_running\u001B[49m\u001B[43m(\u001B[49m\u001B[43m)\u001B[49m\n\u001B[1;32m    109\u001B[0m     \u001B[38;5;28;01mif\u001B[39;00m \u001B[38;5;28mself\u001B[39m\u001B[38;5;241m.\u001B[39mis_connectable():\n\u001B[1;32m    110\u001B[0m         \u001B[38;5;28;01mbreak\u001B[39;00m\n",
      "File \u001B[0;32m~/Desktop/projects/crypto_random/venv/lib/python3.12/site-packages/selenium/webdriver/common/service.py:121\u001B[0m, in \u001B[0;36mService.assert_process_still_running\u001B[0;34m(self)\u001B[0m\n\u001B[1;32m    119\u001B[0m return_code \u001B[38;5;241m=\u001B[39m \u001B[38;5;28mself\u001B[39m\u001B[38;5;241m.\u001B[39mprocess\u001B[38;5;241m.\u001B[39mpoll()\n\u001B[1;32m    120\u001B[0m \u001B[38;5;28;01mif\u001B[39;00m return_code:\n\u001B[0;32m--> 121\u001B[0m     \u001B[38;5;28;01mraise\u001B[39;00m WebDriverException(\u001B[38;5;124mf\u001B[39m\u001B[38;5;124m\"\u001B[39m\u001B[38;5;124mService \u001B[39m\u001B[38;5;132;01m{\u001B[39;00m\u001B[38;5;28mself\u001B[39m\u001B[38;5;241m.\u001B[39m_path\u001B[38;5;132;01m}\u001B[39;00m\u001B[38;5;124m unexpectedly exited. Status code was: \u001B[39m\u001B[38;5;132;01m{\u001B[39;00mreturn_code\u001B[38;5;132;01m}\u001B[39;00m\u001B[38;5;124m\"\u001B[39m)\n",
      "\u001B[0;31mWebDriverException\u001B[0m: Message: Service /Users/maziyarmahmoodi/.wdm/drivers/chromedriver/mac64/131.0.6778.69/chromedriver-mac-arm64/chromedriver unexpectedly exited. Status code was: -9\n"
     ]
    }
   ],
   "execution_count": 9
  }
 ],
 "metadata": {
  "kernelspec": {
   "display_name": "Python 3",
   "language": "python",
   "name": "python3"
  },
  "language_info": {
   "codemirror_mode": {
    "name": "ipython",
    "version": 2
   },
   "file_extension": ".py",
   "mimetype": "text/x-python",
   "name": "python",
   "nbconvert_exporter": "python",
   "pygments_lexer": "ipython2",
   "version": "2.7.6"
  }
 },
 "nbformat": 4,
 "nbformat_minor": 5
}
