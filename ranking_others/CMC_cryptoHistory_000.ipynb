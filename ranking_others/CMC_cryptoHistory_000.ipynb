{
 "cells": [
  {
   "cell_type": "code",
   "execution_count": null,
   "id": "initial_id",
   "metadata": {
    "collapsed": true
   },
   "outputs": [],
   "source": [
    "from selenium import webdriver\n",
    "from selenium.webdriver.common.by import By\n",
    "from selenium.webdriver.common.action_chains import ActionChains\n",
    "import time\n",
    "import pandas as pd\n",
    "\n",
    "# Initialize Selenium WebDriver (make sure to specify the path to your browser driver)\n",
    "driver = webdriver.Chrome(executable_path='/path/to/chromedriver')\n",
    "\n",
    "# Navigate to the CoinMarketCap historical page for January 6, 2019\n",
    "url = 'https://coinmarketcap.com/historical/20190106/'\n",
    "driver.get(url)\n",
    "\n",
    "# Allow time for the page to load\n",
    "time.sleep(5)\n",
    "\n",
    "# Scroll to the bottom of the page to load all assets\n",
    "last_height = driver.execute_script(\"return document.body.scrollHeight\")\n",
    "while True:\n",
    "    # Scroll down\n",
    "    driver.execute_script(\"window.scrollTo(0, document.body.scrollHeight);\")\n",
    "    \n",
    "    # Wait for more assets to load\n",
    "    time.sleep(3)\n",
    "    \n",
    "    # Check if we have reached the bottom of the page\n",
    "    new_height = driver.execute_script(\"return document.body.scrollHeight\")\n",
    "    if new_height == last_height:\n",
    "        break\n",
    "    last_height = new_height\n",
    "\n",
    "# Locate the table containing assets data\n",
    "table_rows = driver.find_elements(By.CSS_SELECTOR, \"tbody tr\")\n",
    "\n",
    "# Extract data for each asset\n",
    "data = []\n",
    "for row in table_rows:\n",
    "    columns = row.find_elements(By.TAG_NAME, \"td\")\n",
    "    if len(columns) >= 10:  # Ensure row has the expected number of columns\n",
    "        rank = columns[0].text\n",
    "        name = columns[1].text\n",
    "        symbol = columns[2].text\n",
    "        market_cap = columns[3].text\n",
    "        price = columns[4].text\n",
    "        circulating_supply = columns[5].text\n",
    "        volume_24h = columns[6].text\n",
    "        change_1h = columns[7].text\n",
    "        change_24h = columns[8].text\n",
    "        change_7d = columns[9].text\n",
    "        \n",
    "        # Append data for the asset\n",
    "        data.append([rank, name, symbol, market_cap, price, circulating_supply, volume_24h, change_1h, change_24h, change_7d])\n",
    "\n",
    "# Close the browser\n",
    "driver.quit()\n",
    "\n",
    "# Create a DataFrame with the data\n",
    "columns = [\"Rank\", \"Name\", \"Symbol\", \"Market Cap\", \"Price\", \"Circulating Supply\", \"Volume (24h)\", \"% 1h\", \"% 24h\", \"% 7d\"]\n",
    "df = pd.DataFrame(data, columns=columns)\n",
    "\n",
    "# Display the DataFrame (or save to a file if needed)\n",
    "print(df)"
   ]
  }
 ],
 "metadata": {
  "kernelspec": {
   "display_name": "Python 3",
   "language": "python",
   "name": "python3"
  },
  "language_info": {
   "codemirror_mode": {
    "name": "ipython",
    "version": 2
   },
   "file_extension": ".py",
   "mimetype": "text/x-python",
   "name": "python",
   "nbconvert_exporter": "python",
   "pygments_lexer": "ipython2",
   "version": "2.7.6"
  }
 },
 "nbformat": 4,
 "nbformat_minor": 5
}
