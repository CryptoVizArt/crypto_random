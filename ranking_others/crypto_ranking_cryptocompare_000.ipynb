{
 "cells": [
  {
   "metadata": {
    "ExecuteTime": {
     "end_time": "2024-11-14T02:04:02.794640Z",
     "start_time": "2024-11-14T01:56:02.529252Z"
    }
   },
   "cell_type": "code",
   "source": [
    "import requests\n",
    "import pandas as pd\n",
    "import numpy as np\n",
    "from datetime import datetime, timedelta\n",
    "import time\n",
    "import plotly.graph_objects as go\n",
    "\n",
    "class CryptoCompareAPI:\n",
    "    def __init__(self, api_key):\n",
    "        self.api_key = api_key\n",
    "        self.headers = {'authorization': f'Apikey {api_key}'}\n",
    "        self.base_url = \"https://min-api.cryptocompare.com/data\"\n",
    "\n",
    "    def get_top_list(self, limit=100):\n",
    "        \"\"\"Get current top coins\"\"\"\n",
    "        url = f\"{self.base_url}/top/mktcapfull\"\n",
    "        params = {\n",
    "            'limit': limit,\n",
    "            'tsym': 'USD'\n",
    "        }\n",
    "        \n",
    "        try:\n",
    "            response = requests.get(url, headers=self.headers, params=params)\n",
    "            response.raise_for_status()\n",
    "            return response.json()['Data']\n",
    "        except Exception as e:\n",
    "            print(f\"Error fetching top list: {e}\")\n",
    "            return None\n",
    "\n",
    "    def get_historical_daily_mcap(self, symbol, from_date, to_date=None):\n",
    "        \"\"\"Get historical market cap data for a coin\"\"\"\n",
    "        url = f\"{self.base_url}/v2/histoday\"\n",
    "        \n",
    "        if to_date is None:\n",
    "            to_date = datetime.now()\n",
    "            \n",
    "        from_timestamp = int(datetime.strptime(from_date, '%Y-%m-%d').timestamp())\n",
    "        to_timestamp = int(to_date.timestamp())\n",
    "        \n",
    "        params = {\n",
    "            'fsym': symbol,\n",
    "            'tsym': 'USD',\n",
    "            'limit': 2000,\n",
    "            'toTs': to_timestamp\n",
    "        }\n",
    "        \n",
    "        try:\n",
    "            response = requests.get(url, headers=self.headers, params=params)\n",
    "            response.raise_for_status()\n",
    "            data = response.json()['Data']['Data']\n",
    "            return {datetime.fromtimestamp(d['time']).strftime('%Y-%m-%d'): d['market_cap'] \n",
    "                   for d in data if d['time'] >= from_timestamp}\n",
    "        except Exception as e:\n",
    "            print(f\"Error fetching historical data for {symbol}: {e}\")\n",
    "            return {}\n",
    "\n",
    "def create_snapshots_and_track(api, snapshot_dates):\n",
    "    \"\"\"Create snapshots and track their market caps\"\"\"\n",
    "    snapshots = {}\n",
    "    market_cap_history = {}\n",
    "    \n",
    "    # Get current date for tracking until now\n",
    "    today = datetime.now().strftime('%Y-%m-%d')\n",
    "    \n",
    "    # Create snapshots and track market caps\n",
    "    for date in snapshot_dates:\n",
    "        print(f\"\\nProcessing snapshot for {date}\")\n",
    "        \n",
    "        # Get top 100 assets\n",
    "        assets = api.get_top_list(limit=100)\n",
    "        time.sleep(0.5)  # Rate limit compliance\n",
    "        \n",
    "        if not assets:\n",
    "            continue\n",
    "            \n",
    "        # Store snapshot\n",
    "        snapshot_label = f\"{date}_t100\"\n",
    "        snapshots[snapshot_label] = []\n",
    "        market_cap_history[snapshot_label] = {}\n",
    "        \n",
    "        # Process each asset\n",
    "        for rank, asset in enumerate(assets, 1):\n",
    "            symbol = asset['CoinInfo']['Name']\n",
    "            snapshots[snapshot_label].append({\n",
    "                'rank': rank,\n",
    "                'symbol': symbol\n",
    "            })\n",
    "            \n",
    "            # Get historical market cap data\n",
    "            print(f\"Getting historical data for {symbol}\")\n",
    "            hist_data = api.get_historical_daily_mcap(symbol, date)\n",
    "            time.sleep(0.5)  # Rate limit compliance\n",
    "            \n",
    "            # Add to daily totals\n",
    "            for day, mcap in hist_data.items():\n",
    "                if day not in market_cap_history[snapshot_label]:\n",
    "                    market_cap_history[snapshot_label][day] = 0\n",
    "                market_cap_history[snapshot_label][day] += mcap\n",
    "    \n",
    "    return snapshots, market_cap_history\n",
    "\n",
    "def create_visualization(market_cap_history):\n",
    "    \"\"\"Create visualization of aggregated market caps\"\"\"\n",
    "    fig = go.Figure()\n",
    "    \n",
    "    for snapshot_label, history in market_cap_history.items():\n",
    "        # Convert to dataframe for easier plotting\n",
    "        df = pd.DataFrame(\n",
    "            {'date': list(history.keys()),\n",
    "             'market_cap': list(history.values())}\n",
    "        ).sort_values('date')\n",
    "        \n",
    "        # Add trace\n",
    "        fig.add_trace(go.Scatter(\n",
    "            x=df['date'],\n",
    "            y=df['market_cap'] / 1e9,  # Convert to billions\n",
    "            name=snapshot_label,\n",
    "            mode='lines',\n",
    "            hovertemplate=\"Date: %{x}<br>\" +\n",
    "                         \"Total Market Cap: $%{y:.2f}B<br>\" +\n",
    "                         \"<extra></extra>\"\n",
    "        ))\n",
    "    \n",
    "    fig.update_layout(\n",
    "        title='Aggregate Market Cap of Top 100 Assets from 1 and 2 Years Ago',\n",
    "        xaxis_title='Date',\n",
    "        yaxis_title='Total Market Cap (Billions USD)',\n",
    "        hovermode='x unified',\n",
    "        template='plotly_white',\n",
    "        height=800,\n",
    "        showlegend=True,\n",
    "        legend_title='Snapshot Date'\n",
    "    )\n",
    "    \n",
    "    return fig\n",
    "\n",
    "# Initialize API and run\n",
    "API_KEY = \"0cde27853148238124877a771ce0b639b0e6528f9a878502368609849538ed2d\"\n",
    "api = CryptoCompareAPI(API_KEY)\n",
    "\n",
    "# Define snapshot dates\n",
    "dates = [\n",
    "    \"2023-03-13\",  # 1 year ago\n",
    "    \"2022-03-13\"   # 2 years ago\n",
    "]\n",
    "\n",
    "# Create snapshots and track market caps\n",
    "print(\"Creating snapshots and tracking market caps...\")\n",
    "snapshots, market_cap_history = create_snapshots_and_track(api, dates)\n",
    "\n",
    "# Print snapshots\n",
    "print(\"\\nSnapshots of Top 100 Assets:\")\n",
    "for date_label, assets in snapshots.items():\n",
    "    print(f\"\\n{date_label}:\")\n",
    "    for asset in assets:\n",
    "        print(f\"Rank {asset['rank']}: {asset['symbol']}\")\n",
    "\n",
    "# Create and display visualization\n",
    "print(\"\\nCreating visualization...\")\n",
    "fig = create_visualization(market_cap_history)\n",
    "fig.show()\n",
    "\n",
    "# Save data\n",
    "snapshot_df = pd.DataFrame([\n",
    "    {'date_label': date_label, 'rank': asset['rank'], 'symbol': asset['symbol']}\n",
    "    for date_label, assets in snapshots.items()\n",
    "    for asset in assets\n",
    "])\n",
    "snapshot_df.to_csv('top_100_snapshots.csv', index=False)\n",
    "\n",
    "mcap_df = pd.DataFrame([\n",
    "    {'snapshot_date': snapshot_label, 'date': date, 'total_market_cap': mcap}\n",
    "    for snapshot_label, history in market_cap_history.items()\n",
    "    for date, mcap in history.items()\n",
    "])\n",
    "mcap_df.to_csv('market_cap_history.csv', index=False)\n",
    "\n",
    "# Print some basic statistics\n",
    "print(\"\\nBasic Statistics:\")\n",
    "for snapshot_label, history in market_cap_history.items():\n",
    "    mcaps = list(history.values())\n",
    "    print(f\"\\n{snapshot_label}:\")\n",
    "    print(f\"Initial Market Cap: ${min(mcaps)/1e9:.2f}B\")\n",
    "    print(f\"Final Market Cap: ${max(mcaps)/1e9:.2f}B\")\n",
    "    print(f\"Growth: {((max(mcaps)/min(mcaps))-1)*100:.2f}%\")"
   ],
   "id": "7663b1492543ddbe",
   "outputs": [
    {
     "name": "stdout",
     "output_type": "stream",
     "text": [
      "Creating snapshots and tracking market caps...\n",
      "\n",
      "Processing snapshot for 2023-03-13\n",
      "Getting historical data for BTC\n",
      "Error fetching historical data for BTC: 'market_cap'\n",
      "Getting historical data for ETH\n",
      "Error fetching historical data for ETH: 'market_cap'\n",
      "Getting historical data for USDT\n",
      "Error fetching historical data for USDT: 'market_cap'\n",
      "Getting historical data for SOL\n",
      "Error fetching historical data for SOL: 'market_cap'\n",
      "Getting historical data for BNB\n",
      "Error fetching historical data for BNB: 'market_cap'\n",
      "Getting historical data for XRP\n",
      "Error fetching historical data for XRP: 'market_cap'\n",
      "Getting historical data for DOGE\n",
      "Error fetching historical data for DOGE: 'market_cap'\n",
      "Getting historical data for USDC\n",
      "Error fetching historical data for USDC: 'market_cap'\n",
      "Getting historical data for SUI\n",
      "Error fetching historical data for SUI: 'market_cap'\n",
      "Getting historical data for STETH\n",
      "Error fetching historical data for STETH: 'market_cap'\n",
      "Getting historical data for TON\n",
      "Error fetching historical data for TON: 'market_cap'\n",
      "Getting historical data for ADA\n",
      "Error fetching historical data for ADA: 'market_cap'\n",
      "Getting historical data for RYO\n",
      "Error fetching historical data for RYO: 'market_cap'\n",
      "Getting historical data for TRX\n",
      "Error fetching historical data for TRX: 'market_cap'\n",
      "Getting historical data for SHIB\n",
      "Error fetching historical data for SHIB: 'market_cap'\n",
      "Getting historical data for AVAX\n",
      "Error fetching historical data for AVAX: 'market_cap'\n",
      "Getting historical data for LINK\n",
      "Error fetching historical data for LINK: 'market_cap'\n",
      "Getting historical data for APT\n",
      "Error fetching historical data for APT: 'market_cap'\n",
      "Getting historical data for JUP\n",
      "Error fetching historical data for JUP: 'market_cap'\n",
      "Getting historical data for PEPE\n",
      "Error fetching historical data for PEPE: 'market_cap'\n",
      "Getting historical data for BCH\n",
      "Error fetching historical data for BCH: 'market_cap'\n",
      "Getting historical data for ONDO\n",
      "Error fetching historical data for ONDO: 'market_cap'\n",
      "Getting historical data for ENA\n",
      "Error fetching historical data for ENA: 'market_cap'\n",
      "Getting historical data for UNI\n",
      "Error fetching historical data for UNI: 'market_cap'\n",
      "Getting historical data for DOT\n",
      "Error fetching historical data for DOT: 'market_cap'\n",
      "Getting historical data for WBT\n",
      "Error fetching historical data for WBT: 'market_cap'\n",
      "Getting historical data for LEO\n",
      "Error fetching historical data for LEO: 'market_cap'\n",
      "Getting historical data for OP\n",
      "Error fetching historical data for OP: 'market_cap'\n",
      "Getting historical data for NEAR\n",
      "Error fetching historical data for NEAR: 'market_cap'\n",
      "Getting historical data for XLM\n",
      "Error fetching historical data for XLM: 'market_cap'\n",
      "Getting historical data for ARB\n",
      "Error fetching historical data for ARB: 'market_cap'\n",
      "Getting historical data for WEETH\n",
      "Error fetching historical data for WEETH: 'market_cap'\n",
      "Getting historical data for LTC\n",
      "Error fetching historical data for LTC: 'market_cap'\n",
      "Getting historical data for TIA\n",
      "Error fetching historical data for TIA: 'market_cap'\n",
      "Getting historical data for CRO\n",
      "Error fetching historical data for CRO: 'market_cap'\n",
      "Getting historical data for STRK\n",
      "Error fetching historical data for STRK: 'market_cap'\n",
      "Getting historical data for MANTLE\n",
      "Error fetching historical data for MANTLE: 'market_cap'\n",
      "Getting historical data for ICP\n",
      "Error fetching historical data for ICP: 'market_cap'\n",
      "Getting historical data for EIGEN\n",
      "Error fetching historical data for EIGEN: 'market_cap'\n",
      "Getting historical data for TAO\n",
      "Error fetching historical data for TAO: 'market_cap'\n",
      "Getting historical data for WIF\n",
      "Error fetching historical data for WIF: 'market_cap'\n",
      "Getting historical data for PYTH\n",
      "Error fetching historical data for PYTH: 'market_cap'\n",
      "Getting historical data for SEI\n",
      "Error fetching historical data for SEI: 'market_cap'\n",
      "Getting historical data for POL\n",
      "Error fetching historical data for POL: 'market_cap'\n",
      "Getting historical data for MATIC\n",
      "Error fetching historical data for MATIC: 'market_cap'\n",
      "Getting historical data for RNDR\n",
      "Error fetching historical data for RNDR: 'market_cap'\n",
      "Getting historical data for ZRO\n",
      "Error fetching historical data for ZRO: 'market_cap'\n",
      "Getting historical data for BONK\n",
      "Error fetching historical data for BONK: 'market_cap'\n",
      "Getting historical data for FET\n",
      "Error fetching historical data for FET: 'market_cap'\n",
      "Getting historical data for VINCI\n",
      "Error fetching historical data for VINCI: 'market_cap'\n",
      "Getting historical data for ETC\n",
      "Error fetching historical data for ETC: 'market_cap'\n",
      "Getting historical data for DAI\n",
      "Error fetching historical data for DAI: 'market_cap'\n",
      "Getting historical data for KAS\n",
      "Error fetching historical data for KAS: 'market_cap'\n",
      "Getting historical data for JTO\n",
      "Error fetching historical data for JTO: 'market_cap'\n",
      "Getting historical data for USDE\n",
      "Error fetching historical data for USDE: 'market_cap'\n",
      "Getting historical data for HBAR\n",
      "Error fetching historical data for HBAR: 'market_cap'\n",
      "Getting historical data for STX\n",
      "Error fetching historical data for STX: 'market_cap'\n",
      "Getting historical data for BGB\n",
      "Error fetching historical data for BGB: 'market_cap'\n",
      "Getting historical data for GRASS\n",
      "Error fetching historical data for GRASS: 'market_cap'\n",
      "Getting historical data for GT\n",
      "Error fetching historical data for GT: 'market_cap'\n",
      "Getting historical data for RAY\n",
      "Error fetching historical data for RAY: 'market_cap'\n",
      "Getting historical data for AAVE\n",
      "Error fetching historical data for AAVE: 'market_cap'\n",
      "Getting historical data for RENDER\n",
      "Error fetching historical data for RENDER: 'market_cap'\n",
      "Getting historical data for WBETH\n",
      "Error fetching historical data for WBETH: 'market_cap'\n",
      "Getting historical data for IMX\n",
      "Error fetching historical data for IMX: 'market_cap'\n",
      "Getting historical data for ATH\n",
      "Error fetching historical data for ATH: 'market_cap'\n",
      "Getting historical data for FIL\n",
      "Error fetching historical data for FIL: 'market_cap'\n",
      "Getting historical data for W\n",
      "Error fetching historical data for W: 'market_cap'\n",
      "Getting historical data for INJ\n",
      "Error fetching historical data for INJ: 'market_cap'\n",
      "Getting historical data for FDUSD\n",
      "Error fetching historical data for FDUSD: 'market_cap'\n",
      "Getting historical data for RUNE\n",
      "Error fetching historical data for RUNE: 'market_cap'\n",
      "Getting historical data for FLOKI\n",
      "Error fetching historical data for FLOKI: 'market_cap'\n",
      "Getting historical data for VET\n",
      "Error fetching historical data for VET: 'market_cap'\n",
      "Getting historical data for FTM\n",
      "Error fetching historical data for FTM: 'market_cap'\n",
      "Getting historical data for ATOM\n",
      "Error fetching historical data for ATOM: 'market_cap'\n",
      "Getting historical data for FTN\n",
      "Error fetching historical data for FTN: 'market_cap'\n",
      "Getting historical data for ARKM\n",
      "Error fetching historical data for ARKM: 'market_cap'\n",
      "Getting historical data for CORE\n",
      "Error fetching historical data for CORE: 'market_cap'\n",
      "Getting historical data for SAGA\n",
      "Error fetching historical data for SAGA: 'market_cap'\n",
      "Getting historical data for GRT\n",
      "Error fetching historical data for GRT: 'market_cap'\n",
      "Getting historical data for POPCAT\n",
      "Error fetching historical data for POPCAT: 'market_cap'\n",
      "Getting historical data for ALEO\n",
      "Error fetching historical data for ALEO: 'market_cap'\n",
      "Getting historical data for AERO\n",
      "Error fetching historical data for AERO: 'market_cap'\n",
      "Getting historical data for ZK\n",
      "Error fetching historical data for ZK: 'market_cap'\n",
      "Getting historical data for IO\n",
      "Error fetching historical data for IO: 'market_cap'\n",
      "Getting historical data for ENS\n",
      "Error fetching historical data for ENS: 'market_cap'\n",
      "Getting historical data for DYM\n",
      "Error fetching historical data for DYM: 'market_cap'\n",
      "Getting historical data for KCS\n",
      "Error fetching historical data for KCS: 'market_cap'\n",
      "Getting historical data for ETHFI\n",
      "Error fetching historical data for ETHFI: 'market_cap'\n",
      "Getting historical data for FLR\n",
      "Error fetching historical data for FLR: 'market_cap'\n",
      "Getting historical data for WLD\n",
      "Error fetching historical data for WLD: 'market_cap'\n",
      "Getting historical data for TAIKO\n",
      "Error fetching historical data for TAIKO: 'market_cap'\n",
      "Getting historical data for AXS\n",
      "Error fetching historical data for AXS: 'market_cap'\n",
      "Getting historical data for RONIN\n",
      "Error fetching historical data for RONIN: 'market_cap'\n",
      "Getting historical data for ALGO\n",
      "Error fetching historical data for ALGO: 'market_cap'\n",
      "Getting historical data for KMNO\n",
      "Error fetching historical data for KMNO: 'market_cap'\n",
      "Getting historical data for THETA\n",
      "Error fetching historical data for THETA: 'market_cap'\n",
      "Getting historical data for PENDLE\n",
      "Error fetching historical data for PENDLE: 'market_cap'\n",
      "Getting historical data for SUPER\n",
      "Error fetching historical data for SUPER: 'market_cap'\n",
      "Getting historical data for MKR\n",
      "Error fetching historical data for MKR: 'market_cap'\n",
      "\n",
      "Processing snapshot for 2022-03-13\n",
      "Getting historical data for BTC\n",
      "Error fetching historical data for BTC: 'market_cap'\n",
      "Getting historical data for ETH\n",
      "Error fetching historical data for ETH: 'market_cap'\n",
      "Getting historical data for USDT\n",
      "Error fetching historical data for USDT: 'market_cap'\n",
      "Getting historical data for SOL\n",
      "Error fetching historical data for SOL: 'market_cap'\n",
      "Getting historical data for BNB\n",
      "Error fetching historical data for BNB: 'market_cap'\n",
      "Getting historical data for XRP\n",
      "Error fetching historical data for XRP: 'market_cap'\n",
      "Getting historical data for DOGE\n",
      "Error fetching historical data for DOGE: 'market_cap'\n",
      "Getting historical data for USDC\n",
      "Error fetching historical data for USDC: 'market_cap'\n",
      "Getting historical data for SUI\n",
      "Error fetching historical data for SUI: 'market_cap'\n",
      "Getting historical data for STETH\n",
      "Error fetching historical data for STETH: 'market_cap'\n",
      "Getting historical data for TON\n",
      "Error fetching historical data for TON: 'market_cap'\n",
      "Getting historical data for ADA\n",
      "Error fetching historical data for ADA: 'market_cap'\n",
      "Getting historical data for RYO\n",
      "Error fetching historical data for RYO: 'market_cap'\n",
      "Getting historical data for TRX\n",
      "Error fetching historical data for TRX: 'market_cap'\n",
      "Getting historical data for SHIB\n",
      "Error fetching historical data for SHIB: 'market_cap'\n",
      "Getting historical data for AVAX\n",
      "Error fetching historical data for AVAX: 'market_cap'\n",
      "Getting historical data for LINK\n",
      "Error fetching historical data for LINK: 'market_cap'\n",
      "Getting historical data for APT\n",
      "Error fetching historical data for APT: 'market_cap'\n",
      "Getting historical data for JUP\n",
      "Error fetching historical data for JUP: 'market_cap'\n",
      "Getting historical data for PEPE\n",
      "Error fetching historical data for PEPE: 'market_cap'\n",
      "Getting historical data for BCH\n",
      "Error fetching historical data for BCH: 'market_cap'\n",
      "Getting historical data for ENA\n",
      "Error fetching historical data for ENA: 'market_cap'\n",
      "Getting historical data for ONDO\n",
      "Error fetching historical data for ONDO: 'market_cap'\n",
      "Getting historical data for UNI\n",
      "Error fetching historical data for UNI: 'market_cap'\n",
      "Getting historical data for DOT\n",
      "Error fetching historical data for DOT: 'market_cap'\n",
      "Getting historical data for WBT\n",
      "Error fetching historical data for WBT: 'market_cap'\n",
      "Getting historical data for LEO\n",
      "Error fetching historical data for LEO: 'market_cap'\n",
      "Getting historical data for OP\n",
      "Error fetching historical data for OP: 'market_cap'\n",
      "Getting historical data for NEAR\n",
      "Error fetching historical data for NEAR: 'market_cap'\n",
      "Getting historical data for XLM\n",
      "Error fetching historical data for XLM: 'market_cap'\n",
      "Getting historical data for ARB\n",
      "Error fetching historical data for ARB: 'market_cap'\n",
      "Getting historical data for WEETH\n",
      "Error fetching historical data for WEETH: 'market_cap'\n",
      "Getting historical data for LTC\n",
      "Error fetching historical data for LTC: 'market_cap'\n",
      "Getting historical data for TIA\n",
      "Error fetching historical data for TIA: 'market_cap'\n",
      "Getting historical data for CRO\n",
      "Error fetching historical data for CRO: 'market_cap'\n",
      "Getting historical data for STRK\n",
      "Error fetching historical data for STRK: 'market_cap'\n",
      "Getting historical data for MANTLE\n",
      "Error fetching historical data for MANTLE: 'market_cap'\n",
      "Getting historical data for ICP\n",
      "Error fetching historical data for ICP: 'market_cap'\n",
      "Getting historical data for EIGEN\n",
      "Error fetching historical data for EIGEN: 'market_cap'\n",
      "Getting historical data for WIF\n",
      "Error fetching historical data for WIF: 'market_cap'\n",
      "Getting historical data for TAO\n",
      "Error fetching historical data for TAO: 'market_cap'\n",
      "Getting historical data for PYTH\n",
      "Error fetching historical data for PYTH: 'market_cap'\n",
      "Getting historical data for SEI\n",
      "Error fetching historical data for SEI: 'market_cap'\n",
      "Getting historical data for POL\n",
      "Error fetching historical data for POL: 'market_cap'\n",
      "Getting historical data for MATIC\n",
      "Error fetching historical data for MATIC: 'market_cap'\n",
      "Getting historical data for RNDR\n",
      "Error fetching historical data for RNDR: 'market_cap'\n",
      "Getting historical data for ZRO\n",
      "Error fetching historical data for ZRO: 'market_cap'\n",
      "Getting historical data for BONK\n",
      "Error fetching historical data for BONK: 'market_cap'\n",
      "Getting historical data for FET\n",
      "Error fetching historical data for FET: 'market_cap'\n",
      "Getting historical data for VINCI\n",
      "Error fetching historical data for VINCI: 'market_cap'\n",
      "Getting historical data for ETC\n",
      "Error fetching historical data for ETC: 'market_cap'\n",
      "Getting historical data for DAI\n",
      "Error fetching historical data for DAI: 'market_cap'\n",
      "Getting historical data for KAS\n",
      "Error fetching historical data for KAS: 'market_cap'\n",
      "Getting historical data for JTO\n",
      "Error fetching historical data for JTO: 'market_cap'\n",
      "Getting historical data for USDE\n",
      "Error fetching historical data for USDE: 'market_cap'\n",
      "Getting historical data for HBAR\n",
      "Error fetching historical data for HBAR: 'market_cap'\n",
      "Getting historical data for STX\n",
      "Error fetching historical data for STX: 'market_cap'\n",
      "Getting historical data for GRASS\n",
      "Error fetching historical data for GRASS: 'market_cap'\n",
      "Getting historical data for BGB\n",
      "Error fetching historical data for BGB: 'market_cap'\n",
      "Getting historical data for GT\n",
      "Error fetching historical data for GT: 'market_cap'\n",
      "Getting historical data for RAY\n",
      "Error fetching historical data for RAY: 'market_cap'\n",
      "Getting historical data for AAVE\n",
      "Error fetching historical data for AAVE: 'market_cap'\n",
      "Getting historical data for RENDER\n",
      "Error fetching historical data for RENDER: 'market_cap'\n",
      "Getting historical data for WBETH\n",
      "Error fetching historical data for WBETH: 'market_cap'\n",
      "Getting historical data for IMX\n",
      "Error fetching historical data for IMX: 'market_cap'\n",
      "Getting historical data for ATH\n",
      "Error fetching historical data for ATH: 'market_cap'\n",
      "Getting historical data for W\n",
      "Error fetching historical data for W: 'market_cap'\n",
      "Getting historical data for FIL\n",
      "Error fetching historical data for FIL: 'market_cap'\n",
      "Getting historical data for INJ\n",
      "Error fetching historical data for INJ: 'market_cap'\n",
      "Getting historical data for FLOKI\n",
      "Error fetching historical data for FLOKI: 'market_cap'\n",
      "Getting historical data for RUNE\n",
      "Error fetching historical data for RUNE: 'market_cap'\n",
      "Getting historical data for FDUSD\n",
      "Error fetching historical data for FDUSD: 'market_cap'\n",
      "Getting historical data for VET\n",
      "Error fetching historical data for VET: 'market_cap'\n",
      "Getting historical data for FTM\n",
      "Error fetching historical data for FTM: 'market_cap'\n",
      "Getting historical data for ATOM\n",
      "Error fetching historical data for ATOM: 'market_cap'\n",
      "Getting historical data for FTN\n",
      "Error fetching historical data for FTN: 'market_cap'\n",
      "Getting historical data for ARKM\n",
      "Error fetching historical data for ARKM: 'market_cap'\n",
      "Getting historical data for CORE\n",
      "Error fetching historical data for CORE: 'market_cap'\n",
      "Getting historical data for SAGA\n",
      "Error fetching historical data for SAGA: 'market_cap'\n",
      "Getting historical data for GRT\n",
      "Error fetching historical data for GRT: 'market_cap'\n",
      "Getting historical data for POPCAT\n",
      "Error fetching historical data for POPCAT: 'market_cap'\n",
      "Getting historical data for ALEO\n",
      "Error fetching historical data for ALEO: 'market_cap'\n",
      "Getting historical data for AERO\n",
      "Error fetching historical data for AERO: 'market_cap'\n",
      "Getting historical data for ZK\n",
      "Error fetching historical data for ZK: 'market_cap'\n",
      "Getting historical data for IO\n",
      "Error fetching historical data for IO: 'market_cap'\n",
      "Getting historical data for ENS\n",
      "Error fetching historical data for ENS: 'market_cap'\n",
      "Getting historical data for DYM\n",
      "Error fetching historical data for DYM: 'market_cap'\n",
      "Getting historical data for ETHFI\n",
      "Error fetching historical data for ETHFI: 'market_cap'\n",
      "Getting historical data for KCS\n",
      "Error fetching historical data for KCS: 'market_cap'\n",
      "Getting historical data for FLR\n",
      "Error fetching historical data for FLR: 'market_cap'\n",
      "Getting historical data for WLD\n",
      "Error fetching historical data for WLD: 'market_cap'\n",
      "Getting historical data for TAIKO\n",
      "Error fetching historical data for TAIKO: 'market_cap'\n",
      "Getting historical data for AXS\n",
      "Error fetching historical data for AXS: 'market_cap'\n",
      "Getting historical data for RONIN\n",
      "Error fetching historical data for RONIN: 'market_cap'\n",
      "Getting historical data for ALGO\n",
      "Error fetching historical data for ALGO: 'market_cap'\n",
      "Getting historical data for KMNO\n",
      "Error fetching historical data for KMNO: 'market_cap'\n",
      "Getting historical data for THETA\n",
      "Error fetching historical data for THETA: 'market_cap'\n",
      "Getting historical data for PENDLE\n",
      "Error fetching historical data for PENDLE: 'market_cap'\n",
      "Getting historical data for SUPER\n",
      "Error fetching historical data for SUPER: 'market_cap'\n",
      "Getting historical data for BRETT\n",
      "Error fetching historical data for BRETT: 'market_cap'\n",
      "\n",
      "Snapshots of Top 100 Assets:\n",
      "\n",
      "2023-03-13_t100:\n",
      "Rank 1: BTC\n",
      "Rank 2: ETH\n",
      "Rank 3: USDT\n",
      "Rank 4: SOL\n",
      "Rank 5: BNB\n",
      "Rank 6: XRP\n",
      "Rank 7: DOGE\n",
      "Rank 8: USDC\n",
      "Rank 9: SUI\n",
      "Rank 10: STETH\n",
      "Rank 11: TON\n",
      "Rank 12: ADA\n",
      "Rank 13: RYO\n",
      "Rank 14: TRX\n",
      "Rank 15: SHIB\n",
      "Rank 16: AVAX\n",
      "Rank 17: LINK\n",
      "Rank 18: APT\n",
      "Rank 19: JUP\n",
      "Rank 20: PEPE\n",
      "Rank 21: BCH\n",
      "Rank 22: ONDO\n",
      "Rank 23: ENA\n",
      "Rank 24: UNI\n",
      "Rank 25: DOT\n",
      "Rank 26: WBT\n",
      "Rank 27: LEO\n",
      "Rank 28: OP\n",
      "Rank 29: NEAR\n",
      "Rank 30: XLM\n",
      "Rank 31: ARB\n",
      "Rank 32: WEETH\n",
      "Rank 33: LTC\n",
      "Rank 34: TIA\n",
      "Rank 35: CRO\n",
      "Rank 36: STRK\n",
      "Rank 37: MANTLE\n",
      "Rank 38: ICP\n",
      "Rank 39: EIGEN\n",
      "Rank 40: TAO\n",
      "Rank 41: WIF\n",
      "Rank 42: PYTH\n",
      "Rank 43: SEI\n",
      "Rank 44: POL\n",
      "Rank 45: MATIC\n",
      "Rank 46: RNDR\n",
      "Rank 47: ZRO\n",
      "Rank 48: BONK\n",
      "Rank 49: FET\n",
      "Rank 50: VINCI\n",
      "Rank 51: ETC\n",
      "Rank 52: DAI\n",
      "Rank 53: KAS\n",
      "Rank 54: JTO\n",
      "Rank 55: USDE\n",
      "Rank 56: HBAR\n",
      "Rank 57: STX\n",
      "Rank 58: BGB\n",
      "Rank 59: GRASS\n",
      "Rank 60: GT\n",
      "Rank 61: RAY\n",
      "Rank 62: AAVE\n",
      "Rank 63: RENDER\n",
      "Rank 64: WBETH\n",
      "Rank 65: IMX\n",
      "Rank 66: ATH\n",
      "Rank 67: FIL\n",
      "Rank 68: W\n",
      "Rank 69: INJ\n",
      "Rank 70: FDUSD\n",
      "Rank 71: RUNE\n",
      "Rank 72: FLOKI\n",
      "Rank 73: VET\n",
      "Rank 74: FTM\n",
      "Rank 75: ATOM\n",
      "Rank 76: FTN\n",
      "Rank 77: ARKM\n",
      "Rank 78: CORE\n",
      "Rank 79: SAGA\n",
      "Rank 80: GRT\n",
      "Rank 81: POPCAT\n",
      "Rank 82: ALEO\n",
      "Rank 83: AERO\n",
      "Rank 84: ZK\n",
      "Rank 85: IO\n",
      "Rank 86: ENS\n",
      "Rank 87: DYM\n",
      "Rank 88: KCS\n",
      "Rank 89: ETHFI\n",
      "Rank 90: FLR\n",
      "Rank 91: WLD\n",
      "Rank 92: TAIKO\n",
      "Rank 93: AXS\n",
      "Rank 94: RONIN\n",
      "Rank 95: ALGO\n",
      "Rank 96: KMNO\n",
      "Rank 97: THETA\n",
      "Rank 98: PENDLE\n",
      "Rank 99: SUPER\n",
      "Rank 100: MKR\n",
      "\n",
      "2022-03-13_t100:\n",
      "Rank 1: BTC\n",
      "Rank 2: ETH\n",
      "Rank 3: USDT\n",
      "Rank 4: SOL\n",
      "Rank 5: BNB\n",
      "Rank 6: XRP\n",
      "Rank 7: DOGE\n",
      "Rank 8: USDC\n",
      "Rank 9: SUI\n",
      "Rank 10: STETH\n",
      "Rank 11: TON\n",
      "Rank 12: ADA\n",
      "Rank 13: RYO\n",
      "Rank 14: TRX\n",
      "Rank 15: SHIB\n",
      "Rank 16: AVAX\n",
      "Rank 17: LINK\n",
      "Rank 18: APT\n",
      "Rank 19: JUP\n",
      "Rank 20: PEPE\n",
      "Rank 21: BCH\n",
      "Rank 22: ENA\n",
      "Rank 23: ONDO\n",
      "Rank 24: UNI\n",
      "Rank 25: DOT\n",
      "Rank 26: WBT\n",
      "Rank 27: LEO\n",
      "Rank 28: OP\n",
      "Rank 29: NEAR\n",
      "Rank 30: XLM\n",
      "Rank 31: ARB\n",
      "Rank 32: WEETH\n",
      "Rank 33: LTC\n",
      "Rank 34: TIA\n",
      "Rank 35: CRO\n",
      "Rank 36: STRK\n",
      "Rank 37: MANTLE\n",
      "Rank 38: ICP\n",
      "Rank 39: EIGEN\n",
      "Rank 40: WIF\n",
      "Rank 41: TAO\n",
      "Rank 42: PYTH\n",
      "Rank 43: SEI\n",
      "Rank 44: POL\n",
      "Rank 45: MATIC\n",
      "Rank 46: RNDR\n",
      "Rank 47: ZRO\n",
      "Rank 48: BONK\n",
      "Rank 49: FET\n",
      "Rank 50: VINCI\n",
      "Rank 51: ETC\n",
      "Rank 52: DAI\n",
      "Rank 53: KAS\n",
      "Rank 54: JTO\n",
      "Rank 55: USDE\n",
      "Rank 56: HBAR\n",
      "Rank 57: STX\n",
      "Rank 58: GRASS\n",
      "Rank 59: BGB\n",
      "Rank 60: GT\n",
      "Rank 61: RAY\n",
      "Rank 62: AAVE\n",
      "Rank 63: RENDER\n",
      "Rank 64: WBETH\n",
      "Rank 65: IMX\n",
      "Rank 66: ATH\n",
      "Rank 67: W\n",
      "Rank 68: FIL\n",
      "Rank 69: INJ\n",
      "Rank 70: FLOKI\n",
      "Rank 71: RUNE\n",
      "Rank 72: FDUSD\n",
      "Rank 73: VET\n",
      "Rank 74: FTM\n",
      "Rank 75: ATOM\n",
      "Rank 76: FTN\n",
      "Rank 77: ARKM\n",
      "Rank 78: CORE\n",
      "Rank 79: SAGA\n",
      "Rank 80: GRT\n",
      "Rank 81: POPCAT\n",
      "Rank 82: ALEO\n",
      "Rank 83: AERO\n",
      "Rank 84: ZK\n",
      "Rank 85: IO\n",
      "Rank 86: ENS\n",
      "Rank 87: DYM\n",
      "Rank 88: ETHFI\n",
      "Rank 89: KCS\n",
      "Rank 90: FLR\n",
      "Rank 91: WLD\n",
      "Rank 92: TAIKO\n",
      "Rank 93: AXS\n",
      "Rank 94: RONIN\n",
      "Rank 95: ALGO\n",
      "Rank 96: KMNO\n",
      "Rank 97: THETA\n",
      "Rank 98: PENDLE\n",
      "Rank 99: SUPER\n",
      "Rank 100: BRETT\n",
      "\n",
      "Creating visualization...\n"
     ]
    },
    {
     "data": {
      "application/vnd.plotly.v1+json": {
       "data": [
        {
         "hovertemplate": "Date: %{x}<br>Total Market Cap: $%{y:.2f}B<br><extra></extra>",
         "mode": "lines",
         "name": "2023-03-13_t100",
         "x": [],
         "y": [],
         "type": "scatter"
        },
        {
         "hovertemplate": "Date: %{x}<br>Total Market Cap: $%{y:.2f}B<br><extra></extra>",
         "mode": "lines",
         "name": "2022-03-13_t100",
         "x": [],
         "y": [],
         "type": "scatter"
        }
       ],
       "layout": {
        "template": {
         "data": {
          "barpolar": [
           {
            "marker": {
             "line": {
              "color": "white",
              "width": 0.5
             },
             "pattern": {
              "fillmode": "overlay",
              "size": 10,
              "solidity": 0.2
             }
            },
            "type": "barpolar"
           }
          ],
          "bar": [
           {
            "error_x": {
             "color": "#2a3f5f"
            },
            "error_y": {
             "color": "#2a3f5f"
            },
            "marker": {
             "line": {
              "color": "white",
              "width": 0.5
             },
             "pattern": {
              "fillmode": "overlay",
              "size": 10,
              "solidity": 0.2
             }
            },
            "type": "bar"
           }
          ],
          "carpet": [
           {
            "aaxis": {
             "endlinecolor": "#2a3f5f",
             "gridcolor": "#C8D4E3",
             "linecolor": "#C8D4E3",
             "minorgridcolor": "#C8D4E3",
             "startlinecolor": "#2a3f5f"
            },
            "baxis": {
             "endlinecolor": "#2a3f5f",
             "gridcolor": "#C8D4E3",
             "linecolor": "#C8D4E3",
             "minorgridcolor": "#C8D4E3",
             "startlinecolor": "#2a3f5f"
            },
            "type": "carpet"
           }
          ],
          "choropleth": [
           {
            "colorbar": {
             "outlinewidth": 0,
             "ticks": ""
            },
            "type": "choropleth"
           }
          ],
          "contourcarpet": [
           {
            "colorbar": {
             "outlinewidth": 0,
             "ticks": ""
            },
            "type": "contourcarpet"
           }
          ],
          "contour": [
           {
            "colorbar": {
             "outlinewidth": 0,
             "ticks": ""
            },
            "colorscale": [
             [
              0.0,
              "#0d0887"
             ],
             [
              0.1111111111111111,
              "#46039f"
             ],
             [
              0.2222222222222222,
              "#7201a8"
             ],
             [
              0.3333333333333333,
              "#9c179e"
             ],
             [
              0.4444444444444444,
              "#bd3786"
             ],
             [
              0.5555555555555556,
              "#d8576b"
             ],
             [
              0.6666666666666666,
              "#ed7953"
             ],
             [
              0.7777777777777778,
              "#fb9f3a"
             ],
             [
              0.8888888888888888,
              "#fdca26"
             ],
             [
              1.0,
              "#f0f921"
             ]
            ],
            "type": "contour"
           }
          ],
          "heatmapgl": [
           {
            "colorbar": {
             "outlinewidth": 0,
             "ticks": ""
            },
            "colorscale": [
             [
              0.0,
              "#0d0887"
             ],
             [
              0.1111111111111111,
              "#46039f"
             ],
             [
              0.2222222222222222,
              "#7201a8"
             ],
             [
              0.3333333333333333,
              "#9c179e"
             ],
             [
              0.4444444444444444,
              "#bd3786"
             ],
             [
              0.5555555555555556,
              "#d8576b"
             ],
             [
              0.6666666666666666,
              "#ed7953"
             ],
             [
              0.7777777777777778,
              "#fb9f3a"
             ],
             [
              0.8888888888888888,
              "#fdca26"
             ],
             [
              1.0,
              "#f0f921"
             ]
            ],
            "type": "heatmapgl"
           }
          ],
          "heatmap": [
           {
            "colorbar": {
             "outlinewidth": 0,
             "ticks": ""
            },
            "colorscale": [
             [
              0.0,
              "#0d0887"
             ],
             [
              0.1111111111111111,
              "#46039f"
             ],
             [
              0.2222222222222222,
              "#7201a8"
             ],
             [
              0.3333333333333333,
              "#9c179e"
             ],
             [
              0.4444444444444444,
              "#bd3786"
             ],
             [
              0.5555555555555556,
              "#d8576b"
             ],
             [
              0.6666666666666666,
              "#ed7953"
             ],
             [
              0.7777777777777778,
              "#fb9f3a"
             ],
             [
              0.8888888888888888,
              "#fdca26"
             ],
             [
              1.0,
              "#f0f921"
             ]
            ],
            "type": "heatmap"
           }
          ],
          "histogram2dcontour": [
           {
            "colorbar": {
             "outlinewidth": 0,
             "ticks": ""
            },
            "colorscale": [
             [
              0.0,
              "#0d0887"
             ],
             [
              0.1111111111111111,
              "#46039f"
             ],
             [
              0.2222222222222222,
              "#7201a8"
             ],
             [
              0.3333333333333333,
              "#9c179e"
             ],
             [
              0.4444444444444444,
              "#bd3786"
             ],
             [
              0.5555555555555556,
              "#d8576b"
             ],
             [
              0.6666666666666666,
              "#ed7953"
             ],
             [
              0.7777777777777778,
              "#fb9f3a"
             ],
             [
              0.8888888888888888,
              "#fdca26"
             ],
             [
              1.0,
              "#f0f921"
             ]
            ],
            "type": "histogram2dcontour"
           }
          ],
          "histogram2d": [
           {
            "colorbar": {
             "outlinewidth": 0,
             "ticks": ""
            },
            "colorscale": [
             [
              0.0,
              "#0d0887"
             ],
             [
              0.1111111111111111,
              "#46039f"
             ],
             [
              0.2222222222222222,
              "#7201a8"
             ],
             [
              0.3333333333333333,
              "#9c179e"
             ],
             [
              0.4444444444444444,
              "#bd3786"
             ],
             [
              0.5555555555555556,
              "#d8576b"
             ],
             [
              0.6666666666666666,
              "#ed7953"
             ],
             [
              0.7777777777777778,
              "#fb9f3a"
             ],
             [
              0.8888888888888888,
              "#fdca26"
             ],
             [
              1.0,
              "#f0f921"
             ]
            ],
            "type": "histogram2d"
           }
          ],
          "histogram": [
           {
            "marker": {
             "pattern": {
              "fillmode": "overlay",
              "size": 10,
              "solidity": 0.2
             }
            },
            "type": "histogram"
           }
          ],
          "mesh3d": [
           {
            "colorbar": {
             "outlinewidth": 0,
             "ticks": ""
            },
            "type": "mesh3d"
           }
          ],
          "parcoords": [
           {
            "line": {
             "colorbar": {
              "outlinewidth": 0,
              "ticks": ""
             }
            },
            "type": "parcoords"
           }
          ],
          "pie": [
           {
            "automargin": true,
            "type": "pie"
           }
          ],
          "scatter3d": [
           {
            "line": {
             "colorbar": {
              "outlinewidth": 0,
              "ticks": ""
             }
            },
            "marker": {
             "colorbar": {
              "outlinewidth": 0,
              "ticks": ""
             }
            },
            "type": "scatter3d"
           }
          ],
          "scattercarpet": [
           {
            "marker": {
             "colorbar": {
              "outlinewidth": 0,
              "ticks": ""
             }
            },
            "type": "scattercarpet"
           }
          ],
          "scattergeo": [
           {
            "marker": {
             "colorbar": {
              "outlinewidth": 0,
              "ticks": ""
             }
            },
            "type": "scattergeo"
           }
          ],
          "scattergl": [
           {
            "marker": {
             "colorbar": {
              "outlinewidth": 0,
              "ticks": ""
             }
            },
            "type": "scattergl"
           }
          ],
          "scattermapbox": [
           {
            "marker": {
             "colorbar": {
              "outlinewidth": 0,
              "ticks": ""
             }
            },
            "type": "scattermapbox"
           }
          ],
          "scatterpolargl": [
           {
            "marker": {
             "colorbar": {
              "outlinewidth": 0,
              "ticks": ""
             }
            },
            "type": "scatterpolargl"
           }
          ],
          "scatterpolar": [
           {
            "marker": {
             "colorbar": {
              "outlinewidth": 0,
              "ticks": ""
             }
            },
            "type": "scatterpolar"
           }
          ],
          "scatter": [
           {
            "fillpattern": {
             "fillmode": "overlay",
             "size": 10,
             "solidity": 0.2
            },
            "type": "scatter"
           }
          ],
          "scatterternary": [
           {
            "marker": {
             "colorbar": {
              "outlinewidth": 0,
              "ticks": ""
             }
            },
            "type": "scatterternary"
           }
          ],
          "surface": [
           {
            "colorbar": {
             "outlinewidth": 0,
             "ticks": ""
            },
            "colorscale": [
             [
              0.0,
              "#0d0887"
             ],
             [
              0.1111111111111111,
              "#46039f"
             ],
             [
              0.2222222222222222,
              "#7201a8"
             ],
             [
              0.3333333333333333,
              "#9c179e"
             ],
             [
              0.4444444444444444,
              "#bd3786"
             ],
             [
              0.5555555555555556,
              "#d8576b"
             ],
             [
              0.6666666666666666,
              "#ed7953"
             ],
             [
              0.7777777777777778,
              "#fb9f3a"
             ],
             [
              0.8888888888888888,
              "#fdca26"
             ],
             [
              1.0,
              "#f0f921"
             ]
            ],
            "type": "surface"
           }
          ],
          "table": [
           {
            "cells": {
             "fill": {
              "color": "#EBF0F8"
             },
             "line": {
              "color": "white"
             }
            },
            "header": {
             "fill": {
              "color": "#C8D4E3"
             },
             "line": {
              "color": "white"
             }
            },
            "type": "table"
           }
          ]
         },
         "layout": {
          "annotationdefaults": {
           "arrowcolor": "#2a3f5f",
           "arrowhead": 0,
           "arrowwidth": 1
          },
          "autotypenumbers": "strict",
          "coloraxis": {
           "colorbar": {
            "outlinewidth": 0,
            "ticks": ""
           }
          },
          "colorscale": {
           "diverging": [
            [
             0,
             "#8e0152"
            ],
            [
             0.1,
             "#c51b7d"
            ],
            [
             0.2,
             "#de77ae"
            ],
            [
             0.3,
             "#f1b6da"
            ],
            [
             0.4,
             "#fde0ef"
            ],
            [
             0.5,
             "#f7f7f7"
            ],
            [
             0.6,
             "#e6f5d0"
            ],
            [
             0.7,
             "#b8e186"
            ],
            [
             0.8,
             "#7fbc41"
            ],
            [
             0.9,
             "#4d9221"
            ],
            [
             1,
             "#276419"
            ]
           ],
           "sequential": [
            [
             0.0,
             "#0d0887"
            ],
            [
             0.1111111111111111,
             "#46039f"
            ],
            [
             0.2222222222222222,
             "#7201a8"
            ],
            [
             0.3333333333333333,
             "#9c179e"
            ],
            [
             0.4444444444444444,
             "#bd3786"
            ],
            [
             0.5555555555555556,
             "#d8576b"
            ],
            [
             0.6666666666666666,
             "#ed7953"
            ],
            [
             0.7777777777777778,
             "#fb9f3a"
            ],
            [
             0.8888888888888888,
             "#fdca26"
            ],
            [
             1.0,
             "#f0f921"
            ]
           ],
           "sequentialminus": [
            [
             0.0,
             "#0d0887"
            ],
            [
             0.1111111111111111,
             "#46039f"
            ],
            [
             0.2222222222222222,
             "#7201a8"
            ],
            [
             0.3333333333333333,
             "#9c179e"
            ],
            [
             0.4444444444444444,
             "#bd3786"
            ],
            [
             0.5555555555555556,
             "#d8576b"
            ],
            [
             0.6666666666666666,
             "#ed7953"
            ],
            [
             0.7777777777777778,
             "#fb9f3a"
            ],
            [
             0.8888888888888888,
             "#fdca26"
            ],
            [
             1.0,
             "#f0f921"
            ]
           ]
          },
          "colorway": [
           "#636efa",
           "#EF553B",
           "#00cc96",
           "#ab63fa",
           "#FFA15A",
           "#19d3f3",
           "#FF6692",
           "#B6E880",
           "#FF97FF",
           "#FECB52"
          ],
          "font": {
           "color": "#2a3f5f"
          },
          "geo": {
           "bgcolor": "white",
           "lakecolor": "white",
           "landcolor": "white",
           "showlakes": true,
           "showland": true,
           "subunitcolor": "#C8D4E3"
          },
          "hoverlabel": {
           "align": "left"
          },
          "hovermode": "closest",
          "mapbox": {
           "style": "light"
          },
          "paper_bgcolor": "white",
          "plot_bgcolor": "white",
          "polar": {
           "angularaxis": {
            "gridcolor": "#EBF0F8",
            "linecolor": "#EBF0F8",
            "ticks": ""
           },
           "bgcolor": "white",
           "radialaxis": {
            "gridcolor": "#EBF0F8",
            "linecolor": "#EBF0F8",
            "ticks": ""
           }
          },
          "scene": {
           "xaxis": {
            "backgroundcolor": "white",
            "gridcolor": "#DFE8F3",
            "gridwidth": 2,
            "linecolor": "#EBF0F8",
            "showbackground": true,
            "ticks": "",
            "zerolinecolor": "#EBF0F8"
           },
           "yaxis": {
            "backgroundcolor": "white",
            "gridcolor": "#DFE8F3",
            "gridwidth": 2,
            "linecolor": "#EBF0F8",
            "showbackground": true,
            "ticks": "",
            "zerolinecolor": "#EBF0F8"
           },
           "zaxis": {
            "backgroundcolor": "white",
            "gridcolor": "#DFE8F3",
            "gridwidth": 2,
            "linecolor": "#EBF0F8",
            "showbackground": true,
            "ticks": "",
            "zerolinecolor": "#EBF0F8"
           }
          },
          "shapedefaults": {
           "line": {
            "color": "#2a3f5f"
           }
          },
          "ternary": {
           "aaxis": {
            "gridcolor": "#DFE8F3",
            "linecolor": "#A2B1C6",
            "ticks": ""
           },
           "baxis": {
            "gridcolor": "#DFE8F3",
            "linecolor": "#A2B1C6",
            "ticks": ""
           },
           "bgcolor": "white",
           "caxis": {
            "gridcolor": "#DFE8F3",
            "linecolor": "#A2B1C6",
            "ticks": ""
           }
          },
          "title": {
           "x": 0.05
          },
          "xaxis": {
           "automargin": true,
           "gridcolor": "#EBF0F8",
           "linecolor": "#EBF0F8",
           "ticks": "",
           "title": {
            "standoff": 15
           },
           "zerolinecolor": "#EBF0F8",
           "zerolinewidth": 2
          },
          "yaxis": {
           "automargin": true,
           "gridcolor": "#EBF0F8",
           "linecolor": "#EBF0F8",
           "ticks": "",
           "title": {
            "standoff": 15
           },
           "zerolinecolor": "#EBF0F8",
           "zerolinewidth": 2
          }
         }
        },
        "title": {
         "text": "Aggregate Market Cap of Top 100 Assets from 1 and 2 Years Ago"
        },
        "xaxis": {
         "title": {
          "text": "Date"
         }
        },
        "yaxis": {
         "title": {
          "text": "Total Market Cap (Billions USD)"
         }
        },
        "hovermode": "x unified",
        "height": 800,
        "showlegend": true,
        "legend": {
         "title": {
          "text": "Snapshot Date"
         }
        }
       },
       "config": {
        "plotlyServerURL": "https://plot.ly"
       }
      },
      "text/html": [
       "<div>                            <div id=\"3760970a-6086-4883-9734-5937672a748c\" class=\"plotly-graph-div\" style=\"height:800px; width:100%;\"></div>            <script type=\"text/javascript\">                require([\"plotly\"], function(Plotly) {                    window.PLOTLYENV=window.PLOTLYENV || {};                                    if (document.getElementById(\"3760970a-6086-4883-9734-5937672a748c\")) {                    Plotly.newPlot(                        \"3760970a-6086-4883-9734-5937672a748c\",                        [{\"hovertemplate\":\"Date: %{x}\\u003cbr\\u003eTotal Market Cap: $%{y:.2f}B\\u003cbr\\u003e\\u003cextra\\u003e\\u003c\\u002fextra\\u003e\",\"mode\":\"lines\",\"name\":\"2023-03-13_t100\",\"x\":[],\"y\":[],\"type\":\"scatter\"},{\"hovertemplate\":\"Date: %{x}\\u003cbr\\u003eTotal Market Cap: $%{y:.2f}B\\u003cbr\\u003e\\u003cextra\\u003e\\u003c\\u002fextra\\u003e\",\"mode\":\"lines\",\"name\":\"2022-03-13_t100\",\"x\":[],\"y\":[],\"type\":\"scatter\"}],                        {\"template\":{\"data\":{\"barpolar\":[{\"marker\":{\"line\":{\"color\":\"white\",\"width\":0.5},\"pattern\":{\"fillmode\":\"overlay\",\"size\":10,\"solidity\":0.2}},\"type\":\"barpolar\"}],\"bar\":[{\"error_x\":{\"color\":\"#2a3f5f\"},\"error_y\":{\"color\":\"#2a3f5f\"},\"marker\":{\"line\":{\"color\":\"white\",\"width\":0.5},\"pattern\":{\"fillmode\":\"overlay\",\"size\":10,\"solidity\":0.2}},\"type\":\"bar\"}],\"carpet\":[{\"aaxis\":{\"endlinecolor\":\"#2a3f5f\",\"gridcolor\":\"#C8D4E3\",\"linecolor\":\"#C8D4E3\",\"minorgridcolor\":\"#C8D4E3\",\"startlinecolor\":\"#2a3f5f\"},\"baxis\":{\"endlinecolor\":\"#2a3f5f\",\"gridcolor\":\"#C8D4E3\",\"linecolor\":\"#C8D4E3\",\"minorgridcolor\":\"#C8D4E3\",\"startlinecolor\":\"#2a3f5f\"},\"type\":\"carpet\"}],\"choropleth\":[{\"colorbar\":{\"outlinewidth\":0,\"ticks\":\"\"},\"type\":\"choropleth\"}],\"contourcarpet\":[{\"colorbar\":{\"outlinewidth\":0,\"ticks\":\"\"},\"type\":\"contourcarpet\"}],\"contour\":[{\"colorbar\":{\"outlinewidth\":0,\"ticks\":\"\"},\"colorscale\":[[0.0,\"#0d0887\"],[0.1111111111111111,\"#46039f\"],[0.2222222222222222,\"#7201a8\"],[0.3333333333333333,\"#9c179e\"],[0.4444444444444444,\"#bd3786\"],[0.5555555555555556,\"#d8576b\"],[0.6666666666666666,\"#ed7953\"],[0.7777777777777778,\"#fb9f3a\"],[0.8888888888888888,\"#fdca26\"],[1.0,\"#f0f921\"]],\"type\":\"contour\"}],\"heatmapgl\":[{\"colorbar\":{\"outlinewidth\":0,\"ticks\":\"\"},\"colorscale\":[[0.0,\"#0d0887\"],[0.1111111111111111,\"#46039f\"],[0.2222222222222222,\"#7201a8\"],[0.3333333333333333,\"#9c179e\"],[0.4444444444444444,\"#bd3786\"],[0.5555555555555556,\"#d8576b\"],[0.6666666666666666,\"#ed7953\"],[0.7777777777777778,\"#fb9f3a\"],[0.8888888888888888,\"#fdca26\"],[1.0,\"#f0f921\"]],\"type\":\"heatmapgl\"}],\"heatmap\":[{\"colorbar\":{\"outlinewidth\":0,\"ticks\":\"\"},\"colorscale\":[[0.0,\"#0d0887\"],[0.1111111111111111,\"#46039f\"],[0.2222222222222222,\"#7201a8\"],[0.3333333333333333,\"#9c179e\"],[0.4444444444444444,\"#bd3786\"],[0.5555555555555556,\"#d8576b\"],[0.6666666666666666,\"#ed7953\"],[0.7777777777777778,\"#fb9f3a\"],[0.8888888888888888,\"#fdca26\"],[1.0,\"#f0f921\"]],\"type\":\"heatmap\"}],\"histogram2dcontour\":[{\"colorbar\":{\"outlinewidth\":0,\"ticks\":\"\"},\"colorscale\":[[0.0,\"#0d0887\"],[0.1111111111111111,\"#46039f\"],[0.2222222222222222,\"#7201a8\"],[0.3333333333333333,\"#9c179e\"],[0.4444444444444444,\"#bd3786\"],[0.5555555555555556,\"#d8576b\"],[0.6666666666666666,\"#ed7953\"],[0.7777777777777778,\"#fb9f3a\"],[0.8888888888888888,\"#fdca26\"],[1.0,\"#f0f921\"]],\"type\":\"histogram2dcontour\"}],\"histogram2d\":[{\"colorbar\":{\"outlinewidth\":0,\"ticks\":\"\"},\"colorscale\":[[0.0,\"#0d0887\"],[0.1111111111111111,\"#46039f\"],[0.2222222222222222,\"#7201a8\"],[0.3333333333333333,\"#9c179e\"],[0.4444444444444444,\"#bd3786\"],[0.5555555555555556,\"#d8576b\"],[0.6666666666666666,\"#ed7953\"],[0.7777777777777778,\"#fb9f3a\"],[0.8888888888888888,\"#fdca26\"],[1.0,\"#f0f921\"]],\"type\":\"histogram2d\"}],\"histogram\":[{\"marker\":{\"pattern\":{\"fillmode\":\"overlay\",\"size\":10,\"solidity\":0.2}},\"type\":\"histogram\"}],\"mesh3d\":[{\"colorbar\":{\"outlinewidth\":0,\"ticks\":\"\"},\"type\":\"mesh3d\"}],\"parcoords\":[{\"line\":{\"colorbar\":{\"outlinewidth\":0,\"ticks\":\"\"}},\"type\":\"parcoords\"}],\"pie\":[{\"automargin\":true,\"type\":\"pie\"}],\"scatter3d\":[{\"line\":{\"colorbar\":{\"outlinewidth\":0,\"ticks\":\"\"}},\"marker\":{\"colorbar\":{\"outlinewidth\":0,\"ticks\":\"\"}},\"type\":\"scatter3d\"}],\"scattercarpet\":[{\"marker\":{\"colorbar\":{\"outlinewidth\":0,\"ticks\":\"\"}},\"type\":\"scattercarpet\"}],\"scattergeo\":[{\"marker\":{\"colorbar\":{\"outlinewidth\":0,\"ticks\":\"\"}},\"type\":\"scattergeo\"}],\"scattergl\":[{\"marker\":{\"colorbar\":{\"outlinewidth\":0,\"ticks\":\"\"}},\"type\":\"scattergl\"}],\"scattermapbox\":[{\"marker\":{\"colorbar\":{\"outlinewidth\":0,\"ticks\":\"\"}},\"type\":\"scattermapbox\"}],\"scatterpolargl\":[{\"marker\":{\"colorbar\":{\"outlinewidth\":0,\"ticks\":\"\"}},\"type\":\"scatterpolargl\"}],\"scatterpolar\":[{\"marker\":{\"colorbar\":{\"outlinewidth\":0,\"ticks\":\"\"}},\"type\":\"scatterpolar\"}],\"scatter\":[{\"fillpattern\":{\"fillmode\":\"overlay\",\"size\":10,\"solidity\":0.2},\"type\":\"scatter\"}],\"scatterternary\":[{\"marker\":{\"colorbar\":{\"outlinewidth\":0,\"ticks\":\"\"}},\"type\":\"scatterternary\"}],\"surface\":[{\"colorbar\":{\"outlinewidth\":0,\"ticks\":\"\"},\"colorscale\":[[0.0,\"#0d0887\"],[0.1111111111111111,\"#46039f\"],[0.2222222222222222,\"#7201a8\"],[0.3333333333333333,\"#9c179e\"],[0.4444444444444444,\"#bd3786\"],[0.5555555555555556,\"#d8576b\"],[0.6666666666666666,\"#ed7953\"],[0.7777777777777778,\"#fb9f3a\"],[0.8888888888888888,\"#fdca26\"],[1.0,\"#f0f921\"]],\"type\":\"surface\"}],\"table\":[{\"cells\":{\"fill\":{\"color\":\"#EBF0F8\"},\"line\":{\"color\":\"white\"}},\"header\":{\"fill\":{\"color\":\"#C8D4E3\"},\"line\":{\"color\":\"white\"}},\"type\":\"table\"}]},\"layout\":{\"annotationdefaults\":{\"arrowcolor\":\"#2a3f5f\",\"arrowhead\":0,\"arrowwidth\":1},\"autotypenumbers\":\"strict\",\"coloraxis\":{\"colorbar\":{\"outlinewidth\":0,\"ticks\":\"\"}},\"colorscale\":{\"diverging\":[[0,\"#8e0152\"],[0.1,\"#c51b7d\"],[0.2,\"#de77ae\"],[0.3,\"#f1b6da\"],[0.4,\"#fde0ef\"],[0.5,\"#f7f7f7\"],[0.6,\"#e6f5d0\"],[0.7,\"#b8e186\"],[0.8,\"#7fbc41\"],[0.9,\"#4d9221\"],[1,\"#276419\"]],\"sequential\":[[0.0,\"#0d0887\"],[0.1111111111111111,\"#46039f\"],[0.2222222222222222,\"#7201a8\"],[0.3333333333333333,\"#9c179e\"],[0.4444444444444444,\"#bd3786\"],[0.5555555555555556,\"#d8576b\"],[0.6666666666666666,\"#ed7953\"],[0.7777777777777778,\"#fb9f3a\"],[0.8888888888888888,\"#fdca26\"],[1.0,\"#f0f921\"]],\"sequentialminus\":[[0.0,\"#0d0887\"],[0.1111111111111111,\"#46039f\"],[0.2222222222222222,\"#7201a8\"],[0.3333333333333333,\"#9c179e\"],[0.4444444444444444,\"#bd3786\"],[0.5555555555555556,\"#d8576b\"],[0.6666666666666666,\"#ed7953\"],[0.7777777777777778,\"#fb9f3a\"],[0.8888888888888888,\"#fdca26\"],[1.0,\"#f0f921\"]]},\"colorway\":[\"#636efa\",\"#EF553B\",\"#00cc96\",\"#ab63fa\",\"#FFA15A\",\"#19d3f3\",\"#FF6692\",\"#B6E880\",\"#FF97FF\",\"#FECB52\"],\"font\":{\"color\":\"#2a3f5f\"},\"geo\":{\"bgcolor\":\"white\",\"lakecolor\":\"white\",\"landcolor\":\"white\",\"showlakes\":true,\"showland\":true,\"subunitcolor\":\"#C8D4E3\"},\"hoverlabel\":{\"align\":\"left\"},\"hovermode\":\"closest\",\"mapbox\":{\"style\":\"light\"},\"paper_bgcolor\":\"white\",\"plot_bgcolor\":\"white\",\"polar\":{\"angularaxis\":{\"gridcolor\":\"#EBF0F8\",\"linecolor\":\"#EBF0F8\",\"ticks\":\"\"},\"bgcolor\":\"white\",\"radialaxis\":{\"gridcolor\":\"#EBF0F8\",\"linecolor\":\"#EBF0F8\",\"ticks\":\"\"}},\"scene\":{\"xaxis\":{\"backgroundcolor\":\"white\",\"gridcolor\":\"#DFE8F3\",\"gridwidth\":2,\"linecolor\":\"#EBF0F8\",\"showbackground\":true,\"ticks\":\"\",\"zerolinecolor\":\"#EBF0F8\"},\"yaxis\":{\"backgroundcolor\":\"white\",\"gridcolor\":\"#DFE8F3\",\"gridwidth\":2,\"linecolor\":\"#EBF0F8\",\"showbackground\":true,\"ticks\":\"\",\"zerolinecolor\":\"#EBF0F8\"},\"zaxis\":{\"backgroundcolor\":\"white\",\"gridcolor\":\"#DFE8F3\",\"gridwidth\":2,\"linecolor\":\"#EBF0F8\",\"showbackground\":true,\"ticks\":\"\",\"zerolinecolor\":\"#EBF0F8\"}},\"shapedefaults\":{\"line\":{\"color\":\"#2a3f5f\"}},\"ternary\":{\"aaxis\":{\"gridcolor\":\"#DFE8F3\",\"linecolor\":\"#A2B1C6\",\"ticks\":\"\"},\"baxis\":{\"gridcolor\":\"#DFE8F3\",\"linecolor\":\"#A2B1C6\",\"ticks\":\"\"},\"bgcolor\":\"white\",\"caxis\":{\"gridcolor\":\"#DFE8F3\",\"linecolor\":\"#A2B1C6\",\"ticks\":\"\"}},\"title\":{\"x\":0.05},\"xaxis\":{\"automargin\":true,\"gridcolor\":\"#EBF0F8\",\"linecolor\":\"#EBF0F8\",\"ticks\":\"\",\"title\":{\"standoff\":15},\"zerolinecolor\":\"#EBF0F8\",\"zerolinewidth\":2},\"yaxis\":{\"automargin\":true,\"gridcolor\":\"#EBF0F8\",\"linecolor\":\"#EBF0F8\",\"ticks\":\"\",\"title\":{\"standoff\":15},\"zerolinecolor\":\"#EBF0F8\",\"zerolinewidth\":2}}},\"title\":{\"text\":\"Aggregate Market Cap of Top 100 Assets from 1 and 2 Years Ago\"},\"xaxis\":{\"title\":{\"text\":\"Date\"}},\"yaxis\":{\"title\":{\"text\":\"Total Market Cap (Billions USD)\"}},\"hovermode\":\"x unified\",\"height\":800,\"showlegend\":true,\"legend\":{\"title\":{\"text\":\"Snapshot Date\"}}},                        {\"responsive\": true}                    ).then(function(){\n",
       "                            \n",
       "var gd = document.getElementById('3760970a-6086-4883-9734-5937672a748c');\n",
       "var x = new MutationObserver(function (mutations, observer) {{\n",
       "        var display = window.getComputedStyle(gd).display;\n",
       "        if (!display || display === 'none') {{\n",
       "            console.log([gd, 'removed!']);\n",
       "            Plotly.purge(gd);\n",
       "            observer.disconnect();\n",
       "        }}\n",
       "}});\n",
       "\n",
       "// Listen for the removal of the full notebook cells\n",
       "var notebookContainer = gd.closest('#notebook-container');\n",
       "if (notebookContainer) {{\n",
       "    x.observe(notebookContainer, {childList: true});\n",
       "}}\n",
       "\n",
       "// Listen for the clearing of the current output cell\n",
       "var outputEl = gd.closest('.output');\n",
       "if (outputEl) {{\n",
       "    x.observe(outputEl, {childList: true});\n",
       "}}\n",
       "\n",
       "                        })                };                });            </script>        </div>"
      ]
     },
     "metadata": {},
     "output_type": "display_data"
    },
    {
     "name": "stdout",
     "output_type": "stream",
     "text": [
      "\n",
      "Basic Statistics:\n",
      "\n",
      "2023-03-13_t100:\n"
     ]
    },
    {
     "ename": "ValueError",
     "evalue": "min() arg is an empty sequence",
     "output_type": "error",
     "traceback": [
      "\u001B[0;31m---------------------------------------------------------------------------\u001B[0m",
      "\u001B[0;31mValueError\u001B[0m                                Traceback (most recent call last)",
      "Cell \u001B[0;32mIn[2], line 183\u001B[0m\n\u001B[1;32m    181\u001B[0m mcaps \u001B[38;5;241m=\u001B[39m \u001B[38;5;28mlist\u001B[39m(history\u001B[38;5;241m.\u001B[39mvalues())\n\u001B[1;32m    182\u001B[0m \u001B[38;5;28mprint\u001B[39m(\u001B[38;5;124mf\u001B[39m\u001B[38;5;124m\"\u001B[39m\u001B[38;5;130;01m\\n\u001B[39;00m\u001B[38;5;132;01m{\u001B[39;00msnapshot_label\u001B[38;5;132;01m}\u001B[39;00m\u001B[38;5;124m:\u001B[39m\u001B[38;5;124m\"\u001B[39m)\n\u001B[0;32m--> 183\u001B[0m \u001B[38;5;28mprint\u001B[39m(\u001B[38;5;124mf\u001B[39m\u001B[38;5;124m\"\u001B[39m\u001B[38;5;124mInitial Market Cap: $\u001B[39m\u001B[38;5;132;01m{\u001B[39;00m\u001B[38;5;28;43mmin\u001B[39;49m\u001B[43m(\u001B[49m\u001B[43mmcaps\u001B[49m\u001B[43m)\u001B[49m\u001B[38;5;241m/\u001B[39m\u001B[38;5;241m1e9\u001B[39m\u001B[38;5;132;01m:\u001B[39;00m\u001B[38;5;124m.2f\u001B[39m\u001B[38;5;132;01m}\u001B[39;00m\u001B[38;5;124mB\u001B[39m\u001B[38;5;124m\"\u001B[39m)\n\u001B[1;32m    184\u001B[0m \u001B[38;5;28mprint\u001B[39m(\u001B[38;5;124mf\u001B[39m\u001B[38;5;124m\"\u001B[39m\u001B[38;5;124mFinal Market Cap: $\u001B[39m\u001B[38;5;132;01m{\u001B[39;00m\u001B[38;5;28mmax\u001B[39m(mcaps)\u001B[38;5;241m/\u001B[39m\u001B[38;5;241m1e9\u001B[39m\u001B[38;5;132;01m:\u001B[39;00m\u001B[38;5;124m.2f\u001B[39m\u001B[38;5;132;01m}\u001B[39;00m\u001B[38;5;124mB\u001B[39m\u001B[38;5;124m\"\u001B[39m)\n\u001B[1;32m    185\u001B[0m \u001B[38;5;28mprint\u001B[39m(\u001B[38;5;124mf\u001B[39m\u001B[38;5;124m\"\u001B[39m\u001B[38;5;124mGrowth: \u001B[39m\u001B[38;5;132;01m{\u001B[39;00m((\u001B[38;5;28mmax\u001B[39m(mcaps)\u001B[38;5;241m/\u001B[39m\u001B[38;5;28mmin\u001B[39m(mcaps))\u001B[38;5;241m-\u001B[39m\u001B[38;5;241m1\u001B[39m)\u001B[38;5;241m*\u001B[39m\u001B[38;5;241m100\u001B[39m\u001B[38;5;132;01m:\u001B[39;00m\u001B[38;5;124m.2f\u001B[39m\u001B[38;5;132;01m}\u001B[39;00m\u001B[38;5;124m%\u001B[39m\u001B[38;5;124m\"\u001B[39m)\n",
      "\u001B[0;31mValueError\u001B[0m: min() arg is an empty sequence"
     ]
    }
   ],
   "execution_count": 2
  }
 ],
 "metadata": {
  "kernelspec": {
   "display_name": "Python 3",
   "language": "python",
   "name": "python3"
  },
  "language_info": {
   "codemirror_mode": {
    "name": "ipython",
    "version": 2
   },
   "file_extension": ".py",
   "mimetype": "text/x-python",
   "name": "python",
   "nbconvert_exporter": "python",
   "pygments_lexer": "ipython2",
   "version": "2.7.6"
  }
 },
 "nbformat": 4,
 "nbformat_minor": 5
}
